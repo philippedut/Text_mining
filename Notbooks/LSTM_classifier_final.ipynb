{
 "cells": [
  {
   "cell_type": "markdown",
   "id": "6e5ff48b",
   "metadata": {
    "id": "6e5ff48b"
   },
   "source": [
    "# **Text mining: SENTIMENT ANALYSIS**\n",
    "\n",
    "## 🎓 Master’s Program in Data Science & Advanced Analytics  \n",
    "**Nova IMS** | June 2025  \n",
    "**Course:** Text Mining\n",
    "\n",
    "## 👥 Team **Group 34**  \n",
    "- **[Philippe Dutranoit]** | [20240518]  \n",
    "- **[Diogo Duarte]** | [20240525]  \n",
    "- **[Rui luz]** | [20211628]  \n",
    "- **[Rodrigo Sardinha]** | [20211627]  \n",
    "\n",
    "## 📊 Goal of the notebook\n",
    "\n",
    "This notebook focuses on feature selection and engineering for our text-mining project: predicting market sentiment (Bearish, Bullish, Neutral) from Twitter data.  \n"
   ]
  },
  {
   "cell_type": "markdown",
   "id": "f052f0b3",
   "metadata": {
    "id": "f052f0b3"
   },
   "source": [
    "# Imports"
   ]
  },
  {
   "cell_type": "code",
   "execution_count": 32,
   "id": "72d0d660",
   "metadata": {
    "executionInfo": {
     "elapsed": 6,
     "status": "ok",
     "timestamp": 1749842714505,
     "user": {
      "displayName": "Lima Sardinha",
      "userId": "12551169139158849256"
     },
     "user_tz": -60
    },
    "id": "72d0d660"
   },
   "outputs": [],
   "source": [
    "import numpy as np\n",
    "import pandas as pd\n",
    "import matplotlib.pyplot as plt\n",
    "import seaborn as sns\n",
    "import re\n",
    "import tensorflow as tf\n",
    "from tensorflow.keras.preprocessing.text import Tokenizer\n",
    "from tensorflow.keras.preprocessing.sequence import pad_sequences\n",
    "from tensorflow.keras.models import Sequential\n",
    "from tensorflow.keras.layers import Embedding, LSTM, Dense, Dropout\n",
    "from tensorflow.keras.optimizers import Adam\n",
    "from sklearn.model_selection import train_test_split\n",
    "from sklearn.metrics import classification_report, accuracy_score, confusion_matrix\n",
    "from tensorflow.keras.utils import to_categorical\n",
    "from tensorflow.keras.callbacks import EarlyStopping"
   ]
  },
  {
   "cell_type": "code",
   "execution_count": null,
   "id": "e7d424eb",
   "metadata": {
    "executionInfo": {
     "elapsed": 68,
     "status": "ok",
     "timestamp": 1749837970347,
     "user": {
      "displayName": "Lima Sardinha",
      "userId": "12551169139158849256"
     },
     "user_tz": -60
    },
    "id": "e7d424eb"
   },
   "outputs": [],
   "source": [
    "X_train = pd.read_csv('../Data/X_train.csv')\n",
    "y_train = pd.read_csv('../Data/Y_train.csv')\n",
    "X_test = pd.read_csv('../Data/Data/X_val.csv')\n",
    "y_test = pd.read_csv('../Data/Y_val.csv')"
   ]
  },
  {
   "cell_type": "code",
   "execution_count": 9,
   "id": "e7b28f9c",
   "metadata": {
    "executionInfo": {
     "elapsed": 40,
     "status": "ok",
     "timestamp": 1749837983405,
     "user": {
      "displayName": "Lima Sardinha",
      "userId": "12551169139158849256"
     },
     "user_tz": -60
    },
    "id": "e7b28f9c"
   },
   "outputs": [],
   "source": [
    "y_train = y_train['label']\n",
    "y_test = y_test['label']"
   ]
  },
  {
   "cell_type": "code",
   "execution_count": 10,
   "id": "741b3361",
   "metadata": {
    "colab": {
     "base_uri": "https://localhost:8080/"
    },
    "executionInfo": {
     "elapsed": 15,
     "status": "ok",
     "timestamp": 1749837984170,
     "user": {
      "displayName": "Lima Sardinha",
      "userId": "12551169139158849256"
     },
     "user_tz": -60
    },
    "id": "741b3361",
    "outputId": "b294ef6a-6928-4e46-874f-806d7990c3f7"
   },
   "outputs": [
    {
     "name": "stdout",
     "output_type": "stream",
     "text": [
      "0    2\n",
      "1    1\n",
      "2    0\n",
      "3    0\n",
      "4    2\n",
      "Name: label, dtype: int64\n",
      "[2 1 0]\n"
     ]
    }
   ],
   "source": [
    "print(y_train.head())\n",
    "print(y_train.unique())"
   ]
  },
  {
   "cell_type": "markdown",
   "id": "fc46e035",
   "metadata": {
    "id": "fc46e035"
   },
   "source": [
    "# Prepocessing"
   ]
  },
  {
   "cell_type": "code",
   "execution_count": 11,
   "id": "558cf20a",
   "metadata": {
    "executionInfo": {
     "elapsed": 109,
     "status": "ok",
     "timestamp": 1749837985707,
     "user": {
      "displayName": "Lima Sardinha",
      "userId": "12551169139158849256"
     },
     "user_tz": -60
    },
    "id": "558cf20a"
   },
   "outputs": [],
   "source": [
    "def clean_text(text):\n",
    "    text = text.lower()\n",
    "    text = re.sub(r\"http\\S+|www\\S+|https\\S+\", '', text)\n",
    "    text = re.sub(r'@\\w+', '', text)\n",
    "    text = re.sub(r'#', '', text)\n",
    "    text = re.sub(r'[^\\w\\s]', '', text)\n",
    "    text = re.sub(r'\\d+', '', text)\n",
    "    text = re.sub(r'\\s+', ' ', text).strip()\n",
    "    return text\n",
    "\n",
    "X_train['clean_text'] = X_train['text'].apply(clean_text)\n",
    "X_test['clean_text'] = X_test['text'].apply(clean_text)"
   ]
  },
  {
   "cell_type": "code",
   "execution_count": 12,
   "id": "08ff1edd",
   "metadata": {
    "executionInfo": {
     "elapsed": 350,
     "status": "ok",
     "timestamp": 1749837987189,
     "user": {
      "displayName": "Lima Sardinha",
      "userId": "12551169139158849256"
     },
     "user_tz": -60
    },
    "id": "08ff1edd"
   },
   "outputs": [],
   "source": [
    "MAX_NUM_WORDS = 20000\n",
    "MAX_SEQUENCE_LENGTH = 50\n",
    "\n",
    "tokenizer = Tokenizer(num_words=MAX_NUM_WORDS, oov_token=\"<OOV>\")\n",
    "tokenizer.fit_on_texts(X_train['clean_text'])\n",
    "\n",
    "X_train_seq = tokenizer.texts_to_sequences(X_train['clean_text'])\n",
    "X_test_seq = tokenizer.texts_to_sequences(X_test['clean_text'])\n",
    "\n",
    "X_train_pad = pad_sequences(X_train_seq, maxlen=MAX_SEQUENCE_LENGTH, padding='post')\n",
    "X_test_pad = pad_sequences(X_test_seq, maxlen=MAX_SEQUENCE_LENGTH, padding='post')"
   ]
  },
  {
   "cell_type": "code",
   "execution_count": 13,
   "id": "a90afae5",
   "metadata": {
    "executionInfo": {
     "elapsed": 1,
     "status": "ok",
     "timestamp": 1749837988232,
     "user": {
      "displayName": "Lima Sardinha",
      "userId": "12551169139158849256"
     },
     "user_tz": -60
    },
    "id": "a90afae5"
   },
   "outputs": [],
   "source": [
    "y_train_cat = to_categorical(y_train, num_classes=3)\n",
    "y_test_cat = to_categorical(y_test, num_classes=3)"
   ]
  },
  {
   "cell_type": "markdown",
   "id": "19a9e9f9",
   "metadata": {
    "id": "19a9e9f9"
   },
   "source": [
    "# Feature Engineering → Word Embeddings"
   ]
  },
  {
   "cell_type": "code",
   "execution_count": null,
   "id": "bd5287e8",
   "metadata": {
    "colab": {
     "base_uri": "https://localhost:8080/"
    },
    "executionInfo": {
     "elapsed": 6576,
     "status": "ok",
     "timestamp": 1749838059078,
     "user": {
      "displayName": "Lima Sardinha",
      "userId": "12551169139158849256"
     },
     "user_tz": -60
    },
    "id": "bd5287e8",
    "outputId": "2582fb97-f7c1-4d64-b914-1aa5ce98040f"
   },
   "outputs": [
    {
     "name": "stdout",
     "output_type": "stream",
     "text": [
      "Found 1193514 word vectors in GloVe-Twitter.\n",
      "Embedding Matrix shape: (20000, 100)\n"
     ]
    }
   ],
   "source": [
    "def load_glove_embeddings(filepath, embedding_dim):\n",
    "    embeddings_index = {}\n",
    "    with open(filepath, encoding='utf-8') as f:\n",
    "        for line in f:\n",
    "            values = line.split()\n",
    "            word = values[0]\n",
    "            vector = np.asarray(values[1:], dtype='float32')\n",
    "            embeddings_index[word] = vector\n",
    "    return embeddings_index\n",
    "\n",
    "# Load GloVe-Twitter embeddings\n",
    "embedding_dim = 100\n",
    "glove_filepath = '../Data/glove.twitter.27B.100d.txt'\n",
    "\n",
    "embeddings_index = load_glove_embeddings(glove_filepath, embedding_dim)\n",
    "\n",
    "print(f'Found {len(embeddings_index)} word vectors in GloVe-Twitter.')\n",
    "\n",
    "# Build Embedding Matrix\n",
    "embedding_matrix = np.zeros((MAX_NUM_WORDS, embedding_dim))\n",
    "\n",
    "for word, i in tokenizer.word_index.items():\n",
    "    if i >= MAX_NUM_WORDS:\n",
    "        continue\n",
    "    embedding_vector = embeddings_index.get(word)\n",
    "    if embedding_vector is not None:\n",
    "        embedding_matrix[i] = embedding_vector\n",
    "    else:\n",
    "        embedding_matrix[i] = np.random.normal(scale=0.6, size=(embedding_dim, ))\n",
    "\n",
    "print(f'Embedding Matrix shape: {embedding_matrix.shape}')"
   ]
  },
  {
   "cell_type": "markdown",
   "id": "44d735d4",
   "metadata": {
    "id": "44d735d4"
   },
   "source": [
    "## Model Architecture → LSTM\n"
   ]
  },
  {
   "cell_type": "code",
   "execution_count": 17,
   "id": "55c87c59",
   "metadata": {
    "colab": {
     "base_uri": "https://localhost:8080/",
     "height": 260
    },
    "executionInfo": {
     "elapsed": 4960,
     "status": "ok",
     "timestamp": 1749838068649,
     "user": {
      "displayName": "Lima Sardinha",
      "userId": "12551169139158849256"
     },
     "user_tz": -60
    },
    "id": "55c87c59",
    "outputId": "c296145a-aa46-4383-e2c1-699f08f6683d"
   },
   "outputs": [
    {
     "name": "stderr",
     "output_type": "stream",
     "text": [
      "/usr/local/lib/python3.11/dist-packages/keras/src/layers/core/embedding.py:90: UserWarning: Argument `input_length` is deprecated. Just remove it.\n",
      "  warnings.warn(\n"
     ]
    },
    {
     "data": {
      "text/html": [
       "<pre style=\"white-space:pre;overflow-x:auto;line-height:normal;font-family:Menlo,'DejaVu Sans Mono',consolas,'Courier New',monospace\"><span style=\"font-weight: bold\">Model: \"sequential\"</span>\n",
       "</pre>\n"
      ],
      "text/plain": [
       "\u001b[1mModel: \"sequential\"\u001b[0m\n"
      ]
     },
     "metadata": {},
     "output_type": "display_data"
    },
    {
     "data": {
      "text/html": [
       "<pre style=\"white-space:pre;overflow-x:auto;line-height:normal;font-family:Menlo,'DejaVu Sans Mono',consolas,'Courier New',monospace\">┏━━━━━━━━━━━━━━━━━━━━━━━━━━━━━━━━━┳━━━━━━━━━━━━━━━━━━━━━━━━┳━━━━━━━━━━━━━━━┓\n",
       "┃<span style=\"font-weight: bold\"> Layer (type)                    </span>┃<span style=\"font-weight: bold\"> Output Shape           </span>┃<span style=\"font-weight: bold\">       Param # </span>┃\n",
       "┡━━━━━━━━━━━━━━━━━━━━━━━━━━━━━━━━━╇━━━━━━━━━━━━━━━━━━━━━━━━╇━━━━━━━━━━━━━━━┩\n",
       "│ embedding (<span style=\"color: #0087ff; text-decoration-color: #0087ff\">Embedding</span>)           │ ?                      │     <span style=\"color: #00af00; text-decoration-color: #00af00\">2,000,000</span> │\n",
       "├─────────────────────────────────┼────────────────────────┼───────────────┤\n",
       "│ lstm (<span style=\"color: #0087ff; text-decoration-color: #0087ff\">LSTM</span>)                     │ ?                      │   <span style=\"color: #00af00; text-decoration-color: #00af00\">0</span> (unbuilt) │\n",
       "├─────────────────────────────────┼────────────────────────┼───────────────┤\n",
       "│ dense (<span style=\"color: #0087ff; text-decoration-color: #0087ff\">Dense</span>)                   │ ?                      │   <span style=\"color: #00af00; text-decoration-color: #00af00\">0</span> (unbuilt) │\n",
       "└─────────────────────────────────┴────────────────────────┴───────────────┘\n",
       "</pre>\n"
      ],
      "text/plain": [
       "┏━━━━━━━━━━━━━━━━━━━━━━━━━━━━━━━━━┳━━━━━━━━━━━━━━━━━━━━━━━━┳━━━━━━━━━━━━━━━┓\n",
       "┃\u001b[1m \u001b[0m\u001b[1mLayer (type)                   \u001b[0m\u001b[1m \u001b[0m┃\u001b[1m \u001b[0m\u001b[1mOutput Shape          \u001b[0m\u001b[1m \u001b[0m┃\u001b[1m \u001b[0m\u001b[1m      Param #\u001b[0m\u001b[1m \u001b[0m┃\n",
       "┡━━━━━━━━━━━━━━━━━━━━━━━━━━━━━━━━━╇━━━━━━━━━━━━━━━━━━━━━━━━╇━━━━━━━━━━━━━━━┩\n",
       "│ embedding (\u001b[38;5;33mEmbedding\u001b[0m)           │ ?                      │     \u001b[38;5;34m2,000,000\u001b[0m │\n",
       "├─────────────────────────────────┼────────────────────────┼───────────────┤\n",
       "│ lstm (\u001b[38;5;33mLSTM\u001b[0m)                     │ ?                      │   \u001b[38;5;34m0\u001b[0m (unbuilt) │\n",
       "├─────────────────────────────────┼────────────────────────┼───────────────┤\n",
       "│ dense (\u001b[38;5;33mDense\u001b[0m)                   │ ?                      │   \u001b[38;5;34m0\u001b[0m (unbuilt) │\n",
       "└─────────────────────────────────┴────────────────────────┴───────────────┘\n"
      ]
     },
     "metadata": {},
     "output_type": "display_data"
    },
    {
     "data": {
      "text/html": [
       "<pre style=\"white-space:pre;overflow-x:auto;line-height:normal;font-family:Menlo,'DejaVu Sans Mono',consolas,'Courier New',monospace\"><span style=\"font-weight: bold\"> Total params: </span><span style=\"color: #00af00; text-decoration-color: #00af00\">2,000,000</span> (7.63 MB)\n",
       "</pre>\n"
      ],
      "text/plain": [
       "\u001b[1m Total params: \u001b[0m\u001b[38;5;34m2,000,000\u001b[0m (7.63 MB)\n"
      ]
     },
     "metadata": {},
     "output_type": "display_data"
    },
    {
     "data": {
      "text/html": [
       "<pre style=\"white-space:pre;overflow-x:auto;line-height:normal;font-family:Menlo,'DejaVu Sans Mono',consolas,'Courier New',monospace\"><span style=\"font-weight: bold\"> Trainable params: </span><span style=\"color: #00af00; text-decoration-color: #00af00\">0</span> (0.00 B)\n",
       "</pre>\n"
      ],
      "text/plain": [
       "\u001b[1m Trainable params: \u001b[0m\u001b[38;5;34m0\u001b[0m (0.00 B)\n"
      ]
     },
     "metadata": {},
     "output_type": "display_data"
    },
    {
     "data": {
      "text/html": [
       "<pre style=\"white-space:pre;overflow-x:auto;line-height:normal;font-family:Menlo,'DejaVu Sans Mono',consolas,'Courier New',monospace\"><span style=\"font-weight: bold\"> Non-trainable params: </span><span style=\"color: #00af00; text-decoration-color: #00af00\">2,000,000</span> (7.63 MB)\n",
       "</pre>\n"
      ],
      "text/plain": [
       "\u001b[1m Non-trainable params: \u001b[0m\u001b[38;5;34m2,000,000\u001b[0m (7.63 MB)\n"
      ]
     },
     "metadata": {},
     "output_type": "display_data"
    }
   ],
   "source": [
    "model = Sequential()\n",
    "\n",
    "# Embedding Layer with GloVe-Twitter\n",
    "model.add(Embedding(input_dim=MAX_NUM_WORDS,\n",
    "                    output_dim=embedding_dim,\n",
    "                    weights=[embedding_matrix],\n",
    "                    input_length=MAX_SEQUENCE_LENGTH,\n",
    "                    trainable=False))\n",
    "\n",
    "# LSTM Layer\n",
    "model.add(LSTM(units=128, dropout=0.2, recurrent_dropout=0.2))\n",
    "\n",
    "# Fully Connected + Softmax\n",
    "model.add(Dense(3, activation='softmax'))\n",
    "\n",
    "# Compile model\n",
    "model.compile(loss='categorical_crossentropy',\n",
    "              optimizer=Adam(learning_rate=0.001),\n",
    "              metrics=['accuracy'])\n",
    "\n",
    "model.summary()"
   ]
  },
  {
   "cell_type": "markdown",
   "id": "3ac05d94",
   "metadata": {},
   "source": [
    "## Model Training"
   ]
  },
  {
   "cell_type": "code",
   "execution_count": 22,
   "id": "85f73cbe",
   "metadata": {
    "colab": {
     "base_uri": "https://localhost:8080/"
    },
    "executionInfo": {
     "elapsed": 438443,
     "status": "ok",
     "timestamp": 1749840703503,
     "user": {
      "displayName": "Lima Sardinha",
      "userId": "12551169139158849256"
     },
     "user_tz": -60
    },
    "id": "85f73cbe",
    "outputId": "f7c638c5-8e07-40cc-98e0-eaf274ba620a"
   },
   "outputs": [
    {
     "name": "stdout",
     "output_type": "stream",
     "text": [
      "Epoch 1/20\n",
      "\u001b[1m239/239\u001b[0m \u001b[32m━━━━━━━━━━━━━━━━━━━━\u001b[0m\u001b[37m\u001b[0m \u001b[1m38s\u001b[0m 157ms/step - accuracy: 0.7411 - loss: 0.6230 - val_accuracy: 0.7355 - val_loss: 0.6463\n",
      "Epoch 2/20\n",
      "\u001b[1m239/239\u001b[0m \u001b[32m━━━━━━━━━━━━━━━━━━━━\u001b[0m\u001b[37m\u001b[0m \u001b[1m41s\u001b[0m 158ms/step - accuracy: 0.7456 - loss: 0.5939 - val_accuracy: 0.7428 - val_loss: 0.6164\n",
      "Epoch 3/20\n",
      "\u001b[1m239/239\u001b[0m \u001b[32m━━━━━━━━━━━━━━━━━━━━\u001b[0m\u001b[37m\u001b[0m \u001b[1m37s\u001b[0m 155ms/step - accuracy: 0.7555 - loss: 0.5619 - val_accuracy: 0.7528 - val_loss: 0.5923\n",
      "Epoch 4/20\n",
      "\u001b[1m239/239\u001b[0m \u001b[32m━━━━━━━━━━━━━━━━━━━━\u001b[0m\u001b[37m\u001b[0m \u001b[1m41s\u001b[0m 155ms/step - accuracy: 0.7804 - loss: 0.5449 - val_accuracy: 0.7821 - val_loss: 0.5734\n",
      "Epoch 5/20\n",
      "\u001b[1m239/239\u001b[0m \u001b[32m━━━━━━━━━━━━━━━━━━━━\u001b[0m\u001b[37m\u001b[0m \u001b[1m41s\u001b[0m 156ms/step - accuracy: 0.7936 - loss: 0.5169 - val_accuracy: 0.7915 - val_loss: 0.5841\n",
      "Epoch 6/20\n",
      "\u001b[1m239/239\u001b[0m \u001b[32m━━━━━━━━━━━━━━━━━━━━\u001b[0m\u001b[37m\u001b[0m \u001b[1m38s\u001b[0m 160ms/step - accuracy: 0.8078 - loss: 0.4911 - val_accuracy: 0.7768 - val_loss: 0.6464\n",
      "Epoch 7/20\n",
      "\u001b[1m239/239\u001b[0m \u001b[32m━━━━━━━━━━━━━━━━━━━━\u001b[0m\u001b[37m\u001b[0m \u001b[1m41s\u001b[0m 159ms/step - accuracy: 0.8162 - loss: 0.4764 - val_accuracy: 0.7968 - val_loss: 0.5731\n",
      "Epoch 8/20\n",
      "\u001b[1m239/239\u001b[0m \u001b[32m━━━━━━━━━━━━━━━━━━━━\u001b[0m\u001b[37m\u001b[0m \u001b[1m41s\u001b[0m 159ms/step - accuracy: 0.8341 - loss: 0.4435 - val_accuracy: 0.8025 - val_loss: 0.5564\n",
      "Epoch 9/20\n",
      "\u001b[1m239/239\u001b[0m \u001b[32m━━━━━━━━━━━━━━━━━━━━\u001b[0m\u001b[37m\u001b[0m \u001b[1m37s\u001b[0m 155ms/step - accuracy: 0.8360 - loss: 0.4439 - val_accuracy: 0.8051 - val_loss: 0.5588\n",
      "Epoch 10/20\n",
      "\u001b[1m239/239\u001b[0m \u001b[32m━━━━━━━━━━━━━━━━━━━━\u001b[0m\u001b[37m\u001b[0m \u001b[1m42s\u001b[0m 161ms/step - accuracy: 0.8476 - loss: 0.4127 - val_accuracy: 0.7994 - val_loss: 0.5588\n",
      "Epoch 11/20\n",
      "\u001b[1m239/239\u001b[0m \u001b[32m━━━━━━━━━━━━━━━━━━━━\u001b[0m\u001b[37m\u001b[0m \u001b[1m41s\u001b[0m 162ms/step - accuracy: 0.8660 - loss: 0.3692 - val_accuracy: 0.8057 - val_loss: 0.5725\n"
     ]
    }
   ],
   "source": [
    "# EarlyStopping callback\n",
    "early_stop = EarlyStopping(monitor='val_loss', patience=3, restore_best_weights=True)\n",
    "\n",
    "# Train\n",
    "history = model.fit(X_train_pad, y_train_cat,\n",
    "                    epochs=20,\n",
    "                    batch_size=32,\n",
    "                    validation_data=(X_test_pad, y_test_cat),\n",
    "                    callbacks=[early_stop])"
   ]
  },
  {
   "cell_type": "markdown",
   "id": "419201f4",
   "metadata": {},
   "source": [
    "## Evaluation and Results"
   ]
  },
  {
   "cell_type": "code",
   "execution_count": 24,
   "id": "nTZx7zxjg-Ng",
   "metadata": {
    "colab": {
     "base_uri": "https://localhost:8080/"
    },
    "executionInfo": {
     "elapsed": 2606,
     "status": "ok",
     "timestamp": 1749840965698,
     "user": {
      "displayName": "Lima Sardinha",
      "userId": "12551169139158849256"
     },
     "user_tz": -60
    },
    "id": "nTZx7zxjg-Ng",
    "outputId": "fa44c05d-20da-4267-e5a8-c74d28b173e4"
   },
   "outputs": [
    {
     "name": "stdout",
     "output_type": "stream",
     "text": [
      "\u001b[1m60/60\u001b[0m \u001b[32m━━━━━━━━━━━━━━━━━━━━\u001b[0m\u001b[37m\u001b[0m \u001b[1m2s\u001b[0m 32ms/step\n",
      "              precision    recall  f1-score   support\n",
      "\n",
      "     Bearish       0.74      0.47      0.57       288\n",
      "     Bullish       0.76      0.57      0.65       385\n",
      "     Neutral       0.82      0.95      0.88      1236\n",
      "\n",
      "    accuracy                           0.80      1909\n",
      "   macro avg       0.77      0.66      0.70      1909\n",
      "weighted avg       0.79      0.80      0.79      1909\n",
      "\n"
     ]
    }
   ],
   "source": [
    "y_pred_probs = model.predict(X_test_pad)\n",
    "y_pred_classes = np.argmax(y_pred_probs, axis=1)\n",
    "\n",
    "# True classes\n",
    "y_test_true = np.argmax(y_test_cat, axis=1)\n",
    "\n",
    "# Classification report\n",
    "print(classification_report(y_test_true, y_pred_classes, target_names=['Bearish', 'Bullish', 'Neutral']))"
   ]
  },
  {
   "cell_type": "markdown",
   "id": "818W_hW9p4gI",
   "metadata": {
    "id": "818W_hW9p4gI"
   },
   "source": [
    "## Learning Curves"
   ]
  },
  {
   "cell_type": "code",
   "execution_count": 25,
   "id": "AN9kjjXWp-jI",
   "metadata": {
    "colab": {
     "base_uri": "https://localhost:8080/",
     "height": 927
    },
    "executionInfo": {
     "elapsed": 1457,
     "status": "ok",
     "timestamp": 1749841082209,
     "user": {
      "displayName": "Lima Sardinha",
      "userId": "12551169139158849256"
     },
     "user_tz": -60
    },
    "id": "AN9kjjXWp-jI",
    "outputId": "4a9f4992-604c-43c5-9be0-94f0dd9a32c9"
   },
   "outputs": [
    {
     "data": {
      "image/png": "[encoded data removed]",
      "text/plain": [
       "<Figure size 640x480 with 1 Axes>"
      ]
     },
     "metadata": {},
     "output_type": "display_data"
    },
    {
     "data": {
      "image/png": "[encoded data removed]",
      "text/plain": [
       "<Figure size 640x480 with 1 Axes>"
      ]
     },
     "metadata": {},
     "output_type": "display_data"
    }
   ],
   "source": [
    "# Plot Accuracy\n",
    "plt.plot(history.history['accuracy'], label='Train Accuracy')\n",
    "plt.plot(history.history['val_accuracy'], label='Validation Accuracy')\n",
    "plt.title('Model Accuracy')\n",
    "plt.xlabel('Epoch')\n",
    "plt.ylabel('Accuracy')\n",
    "plt.legend()\n",
    "plt.grid()\n",
    "plt.show()\n",
    "\n",
    "# Plot Loss\n",
    "plt.plot(history.history['loss'], label='Train Loss')\n",
    "plt.plot(history.history['val_loss'], label='Validation Loss')\n",
    "plt.title('Model Loss')\n",
    "plt.xlabel('Epoch')\n",
    "plt.ylabel('Loss')\n",
    "plt.legend()\n",
    "plt.grid()\n",
    "plt.show()"
   ]
  },
  {
   "cell_type": "markdown",
   "id": "0s6gFtIIqnHH",
   "metadata": {
    "id": "0s6gFtIIqnHH"
   },
   "source": [
    "## Confusion Matrix"
   ]
  },
  {
   "cell_type": "code",
   "execution_count": 30,
   "id": "Y12AJ6cGqqjU",
   "metadata": {
    "colab": {
     "base_uri": "https://localhost:8080/",
     "height": 487
    },
    "executionInfo": {
     "elapsed": 261,
     "status": "ok",
     "timestamp": 1749841310815,
     "user": {
      "displayName": "Lima Sardinha",
      "userId": "12551169139158849256"
     },
     "user_tz": -60
    },
    "id": "Y12AJ6cGqqjU",
    "outputId": "edbe0879-7dda-4dd0-a24d-79b79a0164ec"
   },
   "outputs": [
    {
     "data": {
      "image/png": "[encoded data removed]",
      "text/plain": [
       "<Figure size 600x500 with 2 Axes>"
      ]
     },
     "metadata": {},
     "output_type": "display_data"
    }
   ],
   "source": [
    "cm = confusion_matrix(y_test_true, y_pred_classes)\n",
    "\n",
    "# Plot\n",
    "plt.figure(figsize=(6, 5))\n",
    "sns.heatmap(cm, annot=True, fmt='d', cmap='Blues',\n",
    "            xticklabels=['Bearish', 'Bullish', 'Neutral'],\n",
    "            yticklabels=['Bearish', 'Bullish', 'Neutral'])\n",
    "plt.title('Confusion Matrix')\n",
    "plt.ylabel('True Label')\n",
    "plt.xlabel('Predicted Label')\n",
    "plt.show()"
   ]
  },
  {
   "cell_type": "code",
   "execution_count": 35,
   "id": "HAImeqtqxxvE",
   "metadata": {
    "colab": {
     "base_uri": "https://localhost:8080/"
    },
    "executionInfo": {
     "elapsed": 48,
     "status": "ok",
     "timestamp": 1749843124729,
     "user": {
      "displayName": "Lima Sardinha",
      "userId": "12551169139158849256"
     },
     "user_tz": -60
    },
    "id": "HAImeqtqxxvE",
    "outputId": "b130f5ed-a447-4758-e0ca-bcde7e84d720"
   },
   "outputs": [
    {
     "name": "stdout",
     "output_type": "stream",
     "text": [
      "\n",
      "--- LSTM + GloVe ---\n",
      "Macro F1: 0.7013\n",
      "Accuracy: 0.8025\n"
     ]
    }
   ],
   "source": [
    "report = classification_report(y_test_true, y_pred_classes, digits=4, output_dict=True)\n",
    "\n",
    "# Extrair Macro F1 e Accuracy\n",
    "macro_f1 = report['macro avg']['f1-score']\n",
    "accuracy = accuracy_score(y_test_true, y_pred_classes)\n",
    "\n",
    "print(f\"\\n--- LSTM + GloVe ---\")\n",
    "print(f\"Macro F1: {macro_f1:.4f}\")\n",
    "print(f\"Accuracy: {accuracy:.4f}\")"
   ]
  }
 ],
 "metadata": {
  "colab": {
   "provenance": [
    {
     "file_id": "1tJP_5QD74888I2fc1Jawhr1W-Zn5Hh_z",
     "timestamp": 1749843502710
    }
   ]
  },
  "kernelspec": {
   "display_name": "Python 3",
   "name": "python3"
  },
  "language_info": {
   "codemirror_mode": {
    "name": "ipython",
    "version": 3
   },
   "file_extension": ".py",
   "mimetype": "text/x-python",
   "name": "python",
   "nbconvert_exporter": "python",
   "pygments_lexer": "ipython3",
   "version": "3.12.3"
  }
 },
 "nbformat": 4,
 "nbformat_minor": 5
}
