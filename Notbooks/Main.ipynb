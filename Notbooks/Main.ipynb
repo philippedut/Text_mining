{
 "cells": [
  {
   "cell_type": "markdown",
   "id": "6e5ff48b",
   "metadata": {},
   "source": [
    "# **Text mining: SENTIMENT ANALYSIS**\n",
    "\n",
    "## 🎓 Master’s Program in Data Science & Advanced Analytics  \n",
    "**Nova IMS** | March 2025  \n",
    "**Course:** Business Cases with Data Science\n",
    "\n",
    "## 👥 Team **Group 34**  \n",
    "- **[Philippe Dutranoit]** | [20240518]  \n",
    "- **[Name 2]** | [Student #2]  \n",
    "- **[Name 3]** | [Student #3]  \n",
    "- **[Name 4]** | [Student #4]  \n",
    "- **[Name 5]** | [Student #5]  \n",
    "\n",
    "## 📊 Goal of the notebook\n",
    "\n",
    "This notebook focuses on feature selection and engineering for our text-mining project: predicting market sentiment (Bearish, Bullish, Neutral) from Twitter data.  \n"
   ]
  }
 ],
 "metadata": {
  "language_info": {
   "name": "python"
  }
 },
 "nbformat": 4,
 "nbformat_minor": 5
}
