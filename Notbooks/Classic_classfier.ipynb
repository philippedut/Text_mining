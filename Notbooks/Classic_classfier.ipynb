{
 "cells": [
  {
   "cell_type": "markdown",
   "id": "6e5ff48b",
   "metadata": {},
   "source": [
    "# **Text mining: SENTIMENT ANALYSIS**\n",
    "\n",
    "## 🎓 Master’s Program in Data Science & Advanced Analytics  \n",
    "**Nova IMS** | March 2025  \n",
    "**Course:** Business Cases with Data Science\n",
    "\n",
    "## 👥 Team **Group 34**  \n",
    "- **[Philippe Dutranoit]** | [20240518]  \n",
    "- **[Diogo Duarte]** | [20240525]  \n",
    "- **[Rui luz]** | [20211628]  \n",
    "- **[Rodrigo Sardinha]** | [20211627]  \n",
    "\n",
    "## 📊 Goal of the notebook\n",
    "\n",
    "This notebook focuses on feature selection and engineering for our text-mining project: predicting market sentiment (Bearish, Bullish, Neutral) from Twitter data.  \n"
   ]
  },
  {
   "cell_type": "markdown",
   "id": "f052f0b3",
   "metadata": {},
   "source": [
    "# Imports"
   ]
  },
  {
   "cell_type": "code",
   "execution_count": null,
   "id": "72d0d660",
   "metadata": {},
   "outputs": [],
   "source": [
    "import pandas as pd \n",
    "import numpy as np\n",
    "import matplotlib.pyplot as plt\n",
    "import seaborn as sns\n",
    "import string\n",
    "import re\n",
    "from sklearn.feature_extraction.text import ENGLISH_STOP_WORDS\n",
    "from xgboost import XGBClassifier\n",
    "from sklearn.model_selection import GridSearchCV\n",
    "from sklearn.metrics import classification_report, f1_score"
   ]
  },
  {
   "cell_type": "code",
   "execution_count": 3,
   "id": "e7d424eb",
   "metadata": {},
   "outputs": [],
   "source": [
    "X_train = pd.read_csv('../Data/X_train.csv')\n",
    "y_train = pd.read_csv('../Data/y_train.csv')\n",
    "X_test = pd.read_csv('../Data/X_val.csv')\n",
    "y_test = pd.read_csv('../Data/y_val.csv')"
   ]
  },
  {
   "cell_type": "markdown",
   "id": "fc46e035",
   "metadata": {},
   "source": [
    "# Prepocessing "
   ]
  },
  {
   "cell_type": "code",
   "execution_count": 6,
   "id": "1b47440c",
   "metadata": {},
   "outputs": [],
   "source": [
    "def preprocess_text_series(X_train, X_val):\n",
    "    \"\"\"\n",
    "    Preprocesses X_train and X_val by:\n",
    "    - Lowercasing\n",
    "    - Removing punctuation\n",
    "    - Removing digits\n",
    "    - Removing stopwords\n",
    "    \n",
    "    Returns:\n",
    "    - Cleaned X_train and X_val as pandas Series\n",
    "    \"\"\"\n",
    "    \n",
    "    def clean_text(text):\n",
    "        text = str(text).lower()  # Convert to string and lowercase\n",
    "        text = text.translate(str.maketrans('', '', string.punctuation))  # Remove punctuation\n",
    "        text = re.sub(r'\\d+', '', text)  # Remove digits\n",
    "        tokens = text.split()\n",
    "        tokens = [word for word in tokens if word not in ENGLISH_STOP_WORDS]  # Remove stopwords\n",
    "        return ' '.join(tokens)\n",
    "\n",
    "    X_train_clean = X_train.apply(clean_text)\n",
    "    X_val_clean = X_val.apply(clean_text)\n",
    "    \n",
    "    return X_train_clean, X_val_clean"
   ]
  },
  {
   "cell_type": "code",
   "execution_count": 7,
   "id": "08efdb1f",
   "metadata": {},
   "outputs": [],
   "source": [
    "X_train, X_val = preprocess_text_series(X_train, X_test)"
   ]
  },
  {
   "cell_type": "code",
   "execution_count": 8,
   "id": "a4a31dca",
   "metadata": {},
   "outputs": [
    {
     "data": {
      "text/plain": [
       "Unnamed: 0                             unnamed length dtype int\n",
       "text          nasdaq prices m senior notes futures httpstcod...\n",
       "dtype: object"
      ]
     },
     "execution_count": 8,
     "metadata": {},
     "output_type": "execute_result"
    }
   ],
   "source": [
    "X_train"
   ]
  },
  {
   "cell_type": "markdown",
   "id": "e7cb6dde",
   "metadata": {},
   "source": [
    "# Model prep "
   ]
  },
  {
   "cell_type": "code",
   "execution_count": null,
   "id": "6d5afb13",
   "metadata": {},
   "outputs": [],
   "source": [
    "from xgboost import XGBClassifier\n",
    "from sklearn.model_selection import GridSearchCV\n",
    "from sklearn.metrics import classification_report, f1_score\n",
    "\n",
    "def train_xgboost_with_grid_search(X_train, y_train, X_val, y_val):\n",
    "    \"\"\"\n",
    "    Trains an XGBoost classifier using GridSearchCV with f1_macro scoring.\n",
    "    \n",
    "    Parameters:\n",
    "    - X_train, y_train: training features and labels\n",
    "    - X_val, y_val: validation features and labels\n",
    "    - verbose: whether to print evaluation results\n",
    "    \n",
    "    Returns:\n",
    "    - best_model: trained model with best parameters\n",
    "    - best_params: the best hyperparameter combination\n",
    "    \"\"\"\n",
    "    \n",
    "    # Define the model\n",
    "    model = XGBClassifier(use_label_encoder=False, eval_metric='logloss', random_state=42)\n",
    "\n",
    "    # Define parameter grid\n",
    "    param_grid = {\n",
    "        'n_estimators': [100, 200],\n",
    "        'max_depth': [3, 5],\n",
    "        'learning_rate': [0.05, 0.1],\n",
    "        'subsample': [0.8, 1.0]\n",
    "    }\n",
    "\n",
    "    # Grid search using f1_macro\n",
    "    grid_search = GridSearchCV(\n",
    "        estimator=model,\n",
    "        param_grid=param_grid,\n",
    "        scoring='f1_macro',\n",
    "        cv=3,\n",
    "        n_jobs=-1,\n",
    "        verbose=0\n",
    "    )\n",
    "\n",
    "    # Fit on training data\n",
    "    grid_search.fit(X_train, y_train)\n",
    "\n",
    "    # Get best model and params\n",
    "    best_model = grid_search.best_estimator_\n",
    "    best_params = grid_search.best_params_\n",
    "\n",
    "    # Evaluate on validation set\n",
    "    y_pred = best_model.predict(X_val)\n",
    "    f1 = f1_score(y_val, y_pred, average='macro')\n",
    "\n",
    "    print(\"Best Parameters:\", best_params)\n",
    "    print(f\"Validation F1 Macro Score: {f1:.4f}\")\n",
    "    print(\"\\nClassification Report:\\n\", classification_report(y_val, y_pred))\n",
    "\n",
    "    return best_model, best_params"
   ]
  },
  {
   "cell_type": "markdown",
   "id": "e3fc796d",
   "metadata": {},
   "source": [
    "# Model training"
   ]
  },
  {
   "cell_type": "markdown",
   "id": "f06bf5c7",
   "metadata": {},
   "source": [
    "# Model Training "
   ]
  }
 ],
 "metadata": {
  "kernelspec": {
   "display_name": "DM2425",
   "language": "python",
   "name": "python3"
  },
  "language_info": {
   "codemirror_mode": {
    "name": "ipython",
    "version": 3
   },
   "file_extension": ".py",
   "mimetype": "text/x-python",
   "name": "python",
   "nbconvert_exporter": "python",
   "pygments_lexer": "ipython3",
   "version": "3.12.7"
  }
 },
 "nbformat": 4,
 "nbformat_minor": 5
}
