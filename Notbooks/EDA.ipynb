{
 "cells": [
  {
   "cell_type": "markdown",
   "id": "6e5ff48b",
   "metadata": {},
   "source": [
    "# **Text mining: SENTIMENT ANALYSIS**\n",
    "\n",
    "## 🎓 Master’s Program in Data Science & Advanced Analytics  \n",
    "**Nova IMS** | Spring Semester 24/25  \n",
    "**Course:** Text Mining\n",
    "\n",
    "## 👥 Team **Group 34**\n",
    "- **[Diogo Duarte]** | [20240525]\n",
    "- **[Philippe Dutranoit]** | [20240518]  \n",
    "- **[Rodrigo Sardinha]** | [20211627]    \n",
    "- **[Rui Luz]** | [20211628]  \n",
    "\n",
    "## 📊 Goal of the notebook\n",
    "\n",
    "This notebook focus on the EDA, giving use a better understanding of what the data looks like and how we could process it in further steps.\n"
   ]
  },
  {
   "cell_type": "markdown",
   "id": "ebed9f8c",
   "metadata": {},
   "source": [
    "---"
   ]
  },
  {
   "cell_type": "markdown",
   "id": "dc4fa174",
   "metadata": {},
   "source": [
    "# **EXPLORATORY DATA ANALYSIS (EDA)**"
   ]
  },
  {
   "cell_type": "markdown",
   "id": "f052f0b3",
   "metadata": {},
   "source": [
    "# 0. Imports"
   ]
  },
  {
   "cell_type": "code",
   "execution_count": 182,
   "id": "72d0d660",
   "metadata": {},
   "outputs": [],
   "source": [
    "import pandas as pd \n",
    "import numpy as np\n",
    "import matplotlib.pyplot as plt\n",
    "import seaborn as sns\n",
    "from wordcloud import WordCloud\n",
    "from sklearn.model_selection import train_test_split\n",
    "from sklearn.feature_extraction.text import CountVectorizer\n",
    "\n",
    "import nltk\n",
    "from nltk.tokenize import word_tokenize\n",
    "import string\n",
    "from nltk.corpus import stopwords\n",
    "import re\n",
    "from nltk.stem import SnowballStemmer\n",
    "from nltk.stem.wordnet import WordNetLemmatizer\n",
    "from tqdm import tqdm"
   ]
  },
  {
   "cell_type": "code",
   "execution_count": 183,
   "id": "de52e255",
   "metadata": {},
   "outputs": [
    {
     "name": "stderr",
     "output_type": "stream",
     "text": [
      "[nltk_data] Downloading package punkt to\n",
      "[nltk_data]     C:\\Users\\diogo\\AppData\\Roaming\\nltk_data...\n",
      "[nltk_data]   Package punkt is already up-to-date!\n",
      "[nltk_data] Downloading package punkt_tab to\n",
      "[nltk_data]     C:\\Users\\diogo\\AppData\\Roaming\\nltk_data...\n",
      "[nltk_data]   Package punkt_tab is already up-to-date!\n",
      "[nltk_data] Downloading package wordnet to\n",
      "[nltk_data]     C:\\Users\\diogo\\AppData\\Roaming\\nltk_data...\n",
      "[nltk_data]   Package wordnet is already up-to-date!\n",
      "[nltk_data] Downloading package omw-1.4 to\n",
      "[nltk_data]     C:\\Users\\diogo\\AppData\\Roaming\\nltk_data...\n",
      "[nltk_data]   Package omw-1.4 is already up-to-date!\n",
      "[nltk_data] Downloading package stopwords to\n",
      "[nltk_data]     C:\\Users\\diogo\\AppData\\Roaming\\nltk_data...\n",
      "[nltk_data]   Package stopwords is already up-to-date!\n",
      "[nltk_data] Downloading package wordnet to\n",
      "[nltk_data]     C:\\Users\\diogo\\AppData\\Roaming\\nltk_data...\n",
      "[nltk_data]   Package wordnet is already up-to-date!\n"
     ]
    },
    {
     "data": {
      "text/plain": [
       "True"
      ]
     },
     "execution_count": 183,
     "metadata": {},
     "output_type": "execute_result"
    }
   ],
   "source": [
    "nltk.download('punkt')\n",
    "nltk.download('punkt_tab')\n",
    "nltk.download('wordnet')\n",
    "nltk.download('omw-1.4')\n",
    "nltk.download('stopwords')\n",
    "nltk.download('wordnet')"
   ]
  },
  {
   "cell_type": "code",
   "execution_count": 184,
   "id": "e7d424eb",
   "metadata": {},
   "outputs": [
    {
     "data": {
      "text/html": [
       "<div>\n",
       "<style scoped>\n",
       "    .dataframe tbody tr th:only-of-type {\n",
       "        vertical-align: middle;\n",
       "    }\n",
       "\n",
       "    .dataframe tbody tr th {\n",
       "        vertical-align: top;\n",
       "    }\n",
       "\n",
       "    .dataframe thead th {\n",
       "        text-align: right;\n",
       "    }\n",
       "</style>\n",
       "<table border=\"1\" class=\"dataframe\">\n",
       "  <thead>\n",
       "    <tr style=\"text-align: right;\">\n",
       "      <th></th>\n",
       "      <th>text</th>\n",
       "      <th>label</th>\n",
       "    </tr>\n",
       "  </thead>\n",
       "  <tbody>\n",
       "    <tr>\n",
       "      <th>0</th>\n",
       "      <td>$BYND - JPMorgan reels in expectations on Beyo...</td>\n",
       "      <td>0</td>\n",
       "    </tr>\n",
       "    <tr>\n",
       "      <th>1</th>\n",
       "      <td>$CCL $RCL - Nomura points to bookings weakness...</td>\n",
       "      <td>0</td>\n",
       "    </tr>\n",
       "    <tr>\n",
       "      <th>2</th>\n",
       "      <td>$CX - Cemex cut at Credit Suisse, J.P. Morgan ...</td>\n",
       "      <td>0</td>\n",
       "    </tr>\n",
       "    <tr>\n",
       "      <th>3</th>\n",
       "      <td>$ESS: BTIG Research cuts to Neutral https://t....</td>\n",
       "      <td>0</td>\n",
       "    </tr>\n",
       "    <tr>\n",
       "      <th>4</th>\n",
       "      <td>$FNKO - Funko slides after Piper Jaffray PT cu...</td>\n",
       "      <td>0</td>\n",
       "    </tr>\n",
       "    <tr>\n",
       "      <th>...</th>\n",
       "      <td>...</td>\n",
       "      <td>...</td>\n",
       "    </tr>\n",
       "    <tr>\n",
       "      <th>9538</th>\n",
       "      <td>The Week's Gainers and Losers on the Stoxx Eur...</td>\n",
       "      <td>2</td>\n",
       "    </tr>\n",
       "    <tr>\n",
       "      <th>9539</th>\n",
       "      <td>Tupperware Brands among consumer gainers; Unil...</td>\n",
       "      <td>2</td>\n",
       "    </tr>\n",
       "    <tr>\n",
       "      <th>9540</th>\n",
       "      <td>vTv Therapeutics leads healthcare gainers; Myo...</td>\n",
       "      <td>2</td>\n",
       "    </tr>\n",
       "    <tr>\n",
       "      <th>9541</th>\n",
       "      <td>WORK, XPO, PYX and AMKR among after hour movers</td>\n",
       "      <td>2</td>\n",
       "    </tr>\n",
       "    <tr>\n",
       "      <th>9542</th>\n",
       "      <td>YNDX, I, QD and OESX among tech movers</td>\n",
       "      <td>2</td>\n",
       "    </tr>\n",
       "  </tbody>\n",
       "</table>\n",
       "<p>9543 rows × 2 columns</p>\n",
       "</div>"
      ],
      "text/plain": [
       "                                                   text  label\n",
       "0     $BYND - JPMorgan reels in expectations on Beyo...      0\n",
       "1     $CCL $RCL - Nomura points to bookings weakness...      0\n",
       "2     $CX - Cemex cut at Credit Suisse, J.P. Morgan ...      0\n",
       "3     $ESS: BTIG Research cuts to Neutral https://t....      0\n",
       "4     $FNKO - Funko slides after Piper Jaffray PT cu...      0\n",
       "...                                                 ...    ...\n",
       "9538  The Week's Gainers and Losers on the Stoxx Eur...      2\n",
       "9539  Tupperware Brands among consumer gainers; Unil...      2\n",
       "9540  vTv Therapeutics leads healthcare gainers; Myo...      2\n",
       "9541    WORK, XPO, PYX and AMKR among after hour movers      2\n",
       "9542             YNDX, I, QD and OESX among tech movers      2\n",
       "\n",
       "[9543 rows x 2 columns]"
      ]
     },
     "execution_count": 184,
     "metadata": {},
     "output_type": "execute_result"
    }
   ],
   "source": [
    "df_train = pd.read_csv('../Data/train.csv')\n",
    "df_test = pd.read_csv('../Data/test.csv')\n",
    "df_train"
   ]
  },
  {
   "cell_type": "markdown",
   "id": "d467b36e",
   "metadata": {},
   "source": [
    "# 1. Overview"
   ]
  },
  {
   "cell_type": "code",
   "execution_count": 185,
   "id": "f9f91137",
   "metadata": {},
   "outputs": [
    {
     "data": {
      "text/html": [
       "<div>\n",
       "<style scoped>\n",
       "    .dataframe tbody tr th:only-of-type {\n",
       "        vertical-align: middle;\n",
       "    }\n",
       "\n",
       "    .dataframe tbody tr th {\n",
       "        vertical-align: top;\n",
       "    }\n",
       "\n",
       "    .dataframe thead th {\n",
       "        text-align: right;\n",
       "    }\n",
       "</style>\n",
       "<table border=\"1\" class=\"dataframe\">\n",
       "  <thead>\n",
       "    <tr style=\"text-align: right;\">\n",
       "      <th></th>\n",
       "      <th>text</th>\n",
       "      <th>label</th>\n",
       "    </tr>\n",
       "  </thead>\n",
       "  <tbody>\n",
       "    <tr>\n",
       "      <th>0</th>\n",
       "      <td>$BYND - JPMorgan reels in expectations on Beyo...</td>\n",
       "      <td>0</td>\n",
       "    </tr>\n",
       "    <tr>\n",
       "      <th>1</th>\n",
       "      <td>$CCL $RCL - Nomura points to bookings weakness...</td>\n",
       "      <td>0</td>\n",
       "    </tr>\n",
       "    <tr>\n",
       "      <th>2</th>\n",
       "      <td>$CX - Cemex cut at Credit Suisse, J.P. Morgan ...</td>\n",
       "      <td>0</td>\n",
       "    </tr>\n",
       "    <tr>\n",
       "      <th>3</th>\n",
       "      <td>$ESS: BTIG Research cuts to Neutral https://t....</td>\n",
       "      <td>0</td>\n",
       "    </tr>\n",
       "    <tr>\n",
       "      <th>4</th>\n",
       "      <td>$FNKO - Funko slides after Piper Jaffray PT cu...</td>\n",
       "      <td>0</td>\n",
       "    </tr>\n",
       "  </tbody>\n",
       "</table>\n",
       "</div>"
      ],
      "text/plain": [
       "                                                text  label\n",
       "0  $BYND - JPMorgan reels in expectations on Beyo...      0\n",
       "1  $CCL $RCL - Nomura points to bookings weakness...      0\n",
       "2  $CX - Cemex cut at Credit Suisse, J.P. Morgan ...      0\n",
       "3  $ESS: BTIG Research cuts to Neutral https://t....      0\n",
       "4  $FNKO - Funko slides after Piper Jaffray PT cu...      0"
      ]
     },
     "execution_count": 185,
     "metadata": {},
     "output_type": "execute_result"
    }
   ],
   "source": [
    "df_train.head()"
   ]
  },
  {
   "cell_type": "code",
   "execution_count": 186,
   "id": "50ff0feb",
   "metadata": {},
   "outputs": [
    {
     "data": {
      "text/plain": [
       "np.int64(0)"
      ]
     },
     "execution_count": 186,
     "metadata": {},
     "output_type": "execute_result"
    }
   ],
   "source": [
    "df_train['label'].isna().sum()"
   ]
  },
  {
   "cell_type": "markdown",
   "id": "cc2830e7",
   "metadata": {},
   "source": [
    "# 2. Label (Dependent Feature)\n",
    "\n",
    "For better interpretation, we will add a new column to the dataset that will contain the label as a string, instead of an integer. This will help us understand the sentiment associated with each review."
   ]
  },
  {
   "cell_type": "code",
   "execution_count": 187,
   "id": "b4a9fe6f",
   "metadata": {},
   "outputs": [],
   "source": [
    "labels = {0: 'Bearish', 1: 'Bullish', 2: 'Neutral'} # the labels are encoded as 0, 1, 2\n",
    "df_train['sentiment'] = df_train['label'].map(labels)"
   ]
  },
  {
   "cell_type": "code",
   "execution_count": 188,
   "id": "3be4621f",
   "metadata": {},
   "outputs": [
    {
     "data": {
      "application/vnd.microsoft.datawrangler.viewer.v0+json": {
       "columns": [
        {
         "name": "index",
         "rawType": "object",
         "type": "string"
        },
        {
         "name": "sentiment",
         "rawType": "object",
         "type": "unknown"
        }
       ],
       "ref": "983ee095-c629-4a16-8b4d-dd8b0cd51291",
       "rows": [
        [
         "count",
         "9543"
        ],
        [
         "unique",
         "3"
        ],
        [
         "top",
         "Neutral"
        ],
        [
         "freq",
         "6178"
        ]
       ],
       "shape": {
        "columns": 1,
        "rows": 4
       }
      },
      "text/plain": [
       "count        9543\n",
       "unique          3\n",
       "top       Neutral\n",
       "freq         6178\n",
       "Name: sentiment, dtype: object"
      ]
     },
     "execution_count": 188,
     "metadata": {},
     "output_type": "execute_result"
    }
   ],
   "source": [
    "df_train['sentiment'].describe()"
   ]
  },
  {
   "cell_type": "code",
   "execution_count": 189,
   "id": "ceb36f57",
   "metadata": {},
   "outputs": [
    {
     "data": {
      "application/vnd.microsoft.datawrangler.viewer.v0+json": {
       "columns": [
        {
         "name": "sentiment",
         "rawType": "object",
         "type": "string"
        },
        {
         "name": "proportion",
         "rawType": "float64",
         "type": "float"
        }
       ],
       "ref": "7e730710-7c46-4190-99de-f5d33b237917",
       "rows": [
        [
         "Neutral",
         "0.65"
        ],
        [
         "Bullish",
         "0.2"
        ],
        [
         "Bearish",
         "0.15"
        ]
       ],
       "shape": {
        "columns": 1,
        "rows": 3
       }
      },
      "text/plain": [
       "sentiment\n",
       "Neutral    0.65\n",
       "Bullish    0.20\n",
       "Bearish    0.15\n",
       "Name: proportion, dtype: float64"
      ]
     },
     "execution_count": 189,
     "metadata": {},
     "output_type": "execute_result"
    }
   ],
   "source": [
    "df_train['sentiment'].value_counts(normalize=True).round(2)"
   ]
  },
  {
   "cell_type": "code",
   "execution_count": 190,
   "id": "ad874a45",
   "metadata": {},
   "outputs": [
    {
     "name": "stderr",
     "output_type": "stream",
     "text": [
      "C:\\Users\\diogo\\AppData\\Local\\Temp\\ipykernel_24900\\1855773375.py:3: FutureWarning: \n",
      "\n",
      "Passing `palette` without assigning `hue` is deprecated and will be removed in v0.14.0. Assign the `x` variable to `hue` and set `legend=False` for the same effect.\n",
      "\n",
      "  sns.countplot(data=df_train, x='sentiment', order=df_train['sentiment'].value_counts().index, palette=colors)\n"
     ]
    },
    {
     "data": {
      "image/png": "[encoded data removed]",
      "text/plain": [
       "<Figure size 640x480 with 1 Axes>"
      ]
     },
     "metadata": {},
     "output_type": "display_data"
    }
   ],
   "source": [
    "colors = ['slategrey', 'forestgreen', 'red'] # colors for the labels\n",
    "\n",
    "sns.countplot(data=df_train, x='sentiment', order=df_train['sentiment'].value_counts().index, palette=colors)\n",
    "plt.title(\"Distribution of Sentiment\")\n",
    "plt.xlabel(\"Sentiment\")\n",
    "plt.ylabel(\"Count\")\n",
    "\n",
    "for i, color in enumerate(colors):\n",
    "    plt.gca().patches[i].set_facecolor(color)\n",
    "\n",
    "plt.show()"
   ]
  },
  {
   "cell_type": "markdown",
   "id": "a08982d5",
   "metadata": {},
   "source": [
    "---\n",
    "## <span style=\"color: red;\">DISCLAIMER</span>\n",
    "For the purposes of this notebook, we will recode the sentiment labels to enhance the analysis, making them more suitable for our needs. This makes it so that we can classify the sentiments in an ordinal scale, making the feature an ordinal categorical variable, which permits us to perform more interpretation techniques (like boxplots, median, etc.)."
   ]
  },
  {
   "cell_type": "code",
   "execution_count": 191,
   "id": "167bb75d",
   "metadata": {},
   "outputs": [],
   "source": [
    "# conceptual scale: 0 = Bearish, 1 = Neutral, 2 = Bullish\n",
    "# this scales the sentiment from negative (Bearish) to positive (Bullish)\n",
    "df_train['scale'] = df_train['sentiment'].map({\n",
    "    'Bearish': 0,\n",
    "    'Neutral': 1,\n",
    "    'Bullish': 2\n",
    "})"
   ]
  },
  {
   "cell_type": "markdown",
   "id": "58d89999",
   "metadata": {},
   "source": [
    "---"
   ]
  },
  {
   "cell_type": "code",
   "execution_count": 192,
   "id": "b3c561d0",
   "metadata": {},
   "outputs": [
    {
     "data": {
      "application/vnd.microsoft.datawrangler.viewer.v0+json": {
       "columns": [
        {
         "name": "index",
         "rawType": "object",
         "type": "string"
        },
        {
         "name": "scale",
         "rawType": "float64",
         "type": "float"
        }
       ],
       "ref": "b5cbb3d1-1373-43bb-967a-174de3d9f4b5",
       "rows": [
        [
         "count",
         "9543.0"
        ],
        [
         "min",
         "0.0"
        ],
        [
         "25%",
         "1.0"
        ],
        [
         "50%",
         "1.0"
        ],
        [
         "75%",
         "1.0"
        ],
        [
         "max",
         "2.0"
        ]
       ],
       "shape": {
        "columns": 1,
        "rows": 6
       }
      },
      "text/plain": [
       "count    9543.0\n",
       "min         0.0\n",
       "25%         1.0\n",
       "50%         1.0\n",
       "75%         1.0\n",
       "max         2.0\n",
       "Name: scale, dtype: float64"
      ]
     },
     "execution_count": 192,
     "metadata": {},
     "output_type": "execute_result"
    }
   ],
   "source": [
    "desc = df_train['scale'].describe()\n",
    "desc = desc.drop(['mean', 'std'])\n",
    "desc"
   ]
  },
  {
   "cell_type": "code",
   "execution_count": 193,
   "id": "076fffe9",
   "metadata": {},
   "outputs": [
    {
     "data": {
      "text/plain": [
       "<Axes: >"
      ]
     },
     "execution_count": 193,
     "metadata": {},
     "output_type": "execute_result"
    },
    {
     "data": {
      "image/png": "[encoded data removed]",
      "text/plain": [
       "<Figure size 640x480 with 1 Axes>"
      ]
     },
     "metadata": {},
     "output_type": "display_data"
    }
   ],
   "source": [
    "df_train.boxplot(['scale'])"
   ]
  },
  {
   "cell_type": "markdown",
   "id": "1e41b689",
   "metadata": {},
   "source": [
    "# 3. Text (Independent Feature)"
   ]
  },
  {
   "cell_type": "code",
   "execution_count": 194,
   "id": "28047771",
   "metadata": {},
   "outputs": [
    {
     "data": {
      "text/plain": [
       "np.int64(0)"
      ]
     },
     "execution_count": 194,
     "metadata": {},
     "output_type": "execute_result"
    }
   ],
   "source": [
    "df_train['text'].isna().sum()"
   ]
  },
  {
   "cell_type": "code",
   "execution_count": 195,
   "id": "a0d3d034",
   "metadata": {},
   "outputs": [
    {
     "data": {
      "text/plain": [
       "'Vodafone, Bharti Airtel to Hike Prices\\xa0in India'"
      ]
     },
     "execution_count": 195,
     "metadata": {},
     "output_type": "execute_result"
    }
   ],
   "source": [
    "df_train['text'][2025]"
   ]
  },
  {
   "cell_type": "markdown",
   "id": "327363a4",
   "metadata": {},
   "source": [
    "### Word Count\n",
    "Lets start by splitting our texts into tokens and count how many tokens exist in each document."
   ]
  },
  {
   "cell_type": "code",
   "execution_count": 196,
   "id": "f32d3367",
   "metadata": {},
   "outputs": [
    {
     "data": {
      "text/html": [
       "<div>\n",
       "<style scoped>\n",
       "    .dataframe tbody tr th:only-of-type {\n",
       "        vertical-align: middle;\n",
       "    }\n",
       "\n",
       "    .dataframe tbody tr th {\n",
       "        vertical-align: top;\n",
       "    }\n",
       "\n",
       "    .dataframe thead th {\n",
       "        text-align: right;\n",
       "    }\n",
       "</style>\n",
       "<table border=\"1\" class=\"dataframe\">\n",
       "  <thead>\n",
       "    <tr style=\"text-align: right;\">\n",
       "      <th></th>\n",
       "      <th>text</th>\n",
       "      <th>word_count</th>\n",
       "    </tr>\n",
       "  </thead>\n",
       "  <tbody>\n",
       "    <tr>\n",
       "      <th>0</th>\n",
       "      <td>$BYND - JPMorgan reels in expectations on Beyo...</td>\n",
       "      <td>10</td>\n",
       "    </tr>\n",
       "    <tr>\n",
       "      <th>1</th>\n",
       "      <td>$CCL $RCL - Nomura points to bookings weakness...</td>\n",
       "      <td>14</td>\n",
       "    </tr>\n",
       "    <tr>\n",
       "      <th>2</th>\n",
       "      <td>$CX - Cemex cut at Credit Suisse, J.P. Morgan ...</td>\n",
       "      <td>14</td>\n",
       "    </tr>\n",
       "    <tr>\n",
       "      <th>3</th>\n",
       "      <td>$ESS: BTIG Research cuts to Neutral https://t....</td>\n",
       "      <td>7</td>\n",
       "    </tr>\n",
       "    <tr>\n",
       "      <th>4</th>\n",
       "      <td>$FNKO - Funko slides after Piper Jaffray PT cu...</td>\n",
       "      <td>10</td>\n",
       "    </tr>\n",
       "  </tbody>\n",
       "</table>\n",
       "</div>"
      ],
      "text/plain": [
       "                                                text  word_count\n",
       "0  $BYND - JPMorgan reels in expectations on Beyo...          10\n",
       "1  $CCL $RCL - Nomura points to bookings weakness...          14\n",
       "2  $CX - Cemex cut at Credit Suisse, J.P. Morgan ...          14\n",
       "3  $ESS: BTIG Research cuts to Neutral https://t....           7\n",
       "4  $FNKO - Funko slides after Piper Jaffray PT cu...          10"
      ]
     },
     "execution_count": 196,
     "metadata": {},
     "output_type": "execute_result"
    }
   ],
   "source": [
    "df_train['word_count']  = df_train['text'].apply(lambda x: len(str(x).split(\" \")))\n",
    "df_train[['text','word_count']].head()"
   ]
  },
  {
   "cell_type": "code",
   "execution_count": 197,
   "id": "1d3fb534",
   "metadata": {},
   "outputs": [
    {
     "data": {
      "text/plain": [
       "'$BYND - JPMorgan reels in expectations on Beyond Meat https://t.co/bd0xbFGjkT'"
      ]
     },
     "execution_count": 197,
     "metadata": {},
     "output_type": "execute_result"
    }
   ],
   "source": [
    "df_train['text'][0]"
   ]
  },
  {
   "cell_type": "code",
   "execution_count": 198,
   "id": "93f54e54",
   "metadata": {},
   "outputs": [
    {
     "data": {
      "application/vnd.microsoft.datawrangler.viewer.v0+json": {
       "columns": [
        {
         "name": "index",
         "rawType": "object",
         "type": "string"
        },
        {
         "name": "word_count",
         "rawType": "float64",
         "type": "float"
        }
       ],
       "ref": "a93b2f2e-b528-4242-b429-bb95645b230a",
       "rows": [
        [
         "count",
         "9543.0"
        ],
        [
         "mean",
         "12.168081316147962"
        ],
        [
         "std",
         "4.651245064570511"
        ],
        [
         "min",
         "1.0"
        ],
        [
         "25%",
         "9.0"
        ],
        [
         "50%",
         "11.0"
        ],
        [
         "75%",
         "15.0"
        ],
        [
         "max",
         "31.0"
        ]
       ],
       "shape": {
        "columns": 1,
        "rows": 8
       }
      },
      "text/plain": [
       "count    9543.000000\n",
       "mean       12.168081\n",
       "std         4.651245\n",
       "min         1.000000\n",
       "25%         9.000000\n",
       "50%        11.000000\n",
       "75%        15.000000\n",
       "max        31.000000\n",
       "Name: word_count, dtype: float64"
      ]
     },
     "execution_count": 198,
     "metadata": {},
     "output_type": "execute_result"
    }
   ],
   "source": [
    "df_train.word_count.describe()"
   ]
  },
  {
   "cell_type": "code",
   "execution_count": 199,
   "id": "f33fd9a7",
   "metadata": {},
   "outputs": [
    {
     "data": {
      "text/html": [
       "<div>\n",
       "<style scoped>\n",
       "    .dataframe tbody tr th:only-of-type {\n",
       "        vertical-align: middle;\n",
       "    }\n",
       "\n",
       "    .dataframe tbody tr th {\n",
       "        vertical-align: top;\n",
       "    }\n",
       "\n",
       "    .dataframe thead th {\n",
       "        text-align: right;\n",
       "    }\n",
       "</style>\n",
       "<table border=\"1\" class=\"dataframe\">\n",
       "  <thead>\n",
       "    <tr style=\"text-align: right;\">\n",
       "      <th></th>\n",
       "      <th>text</th>\n",
       "      <th>label</th>\n",
       "      <th>sentiment</th>\n",
       "      <th>scale</th>\n",
       "      <th>word_count</th>\n",
       "    </tr>\n",
       "  </thead>\n",
       "  <tbody>\n",
       "    <tr>\n",
       "      <th>1858</th>\n",
       "      <td>SASA聚酯选用英威达PTA技术</td>\n",
       "      <td>2</td>\n",
       "      <td>Neutral</td>\n",
       "      <td>1</td>\n",
       "      <td>1</td>\n",
       "    </tr>\n",
       "    <tr>\n",
       "      <th>3090</th>\n",
       "      <td>Brent +4%</td>\n",
       "      <td>1</td>\n",
       "      <td>Bullish</td>\n",
       "      <td>2</td>\n",
       "      <td>2</td>\n",
       "    </tr>\n",
       "    <tr>\n",
       "      <th>3943</th>\n",
       "      <td>:)</td>\n",
       "      <td>2</td>\n",
       "      <td>Neutral</td>\n",
       "      <td>1</td>\n",
       "      <td>1</td>\n",
       "    </tr>\n",
       "    <tr>\n",
       "      <th>3945</th>\n",
       "      <td>@MikeCaymanTrades sometimes</td>\n",
       "      <td>2</td>\n",
       "      <td>Neutral</td>\n",
       "      <td>1</td>\n",
       "      <td>2</td>\n",
       "    </tr>\n",
       "    <tr>\n",
       "      <th>3948</th>\n",
       "      <td>@TicToc</td>\n",
       "      <td>2</td>\n",
       "      <td>Neutral</td>\n",
       "      <td>1</td>\n",
       "      <td>1</td>\n",
       "    </tr>\n",
       "    <tr>\n",
       "      <th>3980</th>\n",
       "      <td>100% Correct!</td>\n",
       "      <td>2</td>\n",
       "      <td>Neutral</td>\n",
       "      <td>1</td>\n",
       "      <td>2</td>\n",
       "    </tr>\n",
       "    <tr>\n",
       "      <th>4360</th>\n",
       "      <td>Damn</td>\n",
       "      <td>2</td>\n",
       "      <td>Neutral</td>\n",
       "      <td>1</td>\n",
       "      <td>1</td>\n",
       "    </tr>\n",
       "    <tr>\n",
       "      <th>4440</th>\n",
       "      <td>F5</td>\n",
       "      <td>2</td>\n",
       "      <td>Neutral</td>\n",
       "      <td>1</td>\n",
       "      <td>1</td>\n",
       "    </tr>\n",
       "    <tr>\n",
       "      <th>4681</th>\n",
       "      <td>https://t.co/575AH1YRkF</td>\n",
       "      <td>2</td>\n",
       "      <td>Neutral</td>\n",
       "      <td>1</td>\n",
       "      <td>1</td>\n",
       "    </tr>\n",
       "    <tr>\n",
       "      <th>4682</th>\n",
       "      <td>https://t.co/9eZPvQhfMq</td>\n",
       "      <td>2</td>\n",
       "      <td>Neutral</td>\n",
       "      <td>1</td>\n",
       "      <td>1</td>\n",
       "    </tr>\n",
       "    <tr>\n",
       "      <th>4683</th>\n",
       "      <td>https://t.co/oJxNPEUpWq</td>\n",
       "      <td>2</td>\n",
       "      <td>Neutral</td>\n",
       "      <td>1</td>\n",
       "      <td>1</td>\n",
       "    </tr>\n",
       "    <tr>\n",
       "      <th>4914</th>\n",
       "      <td>Next week.</td>\n",
       "      <td>2</td>\n",
       "      <td>Neutral</td>\n",
       "      <td>1</td>\n",
       "      <td>2</td>\n",
       "    </tr>\n",
       "    <tr>\n",
       "      <th>5484</th>\n",
       "      <td>Wholesale Trade</td>\n",
       "      <td>2</td>\n",
       "      <td>Neutral</td>\n",
       "      <td>1</td>\n",
       "      <td>2</td>\n",
       "    </tr>\n",
       "    <tr>\n",
       "      <th>5505</th>\n",
       "      <td>Wipro赢得Marelli的多年战略性IT协议</td>\n",
       "      <td>2</td>\n",
       "      <td>Neutral</td>\n",
       "      <td>1</td>\n",
       "      <td>1</td>\n",
       "    </tr>\n",
       "    <tr>\n",
       "      <th>5512</th>\n",
       "      <td>Woke Sachs</td>\n",
       "      <td>2</td>\n",
       "      <td>Neutral</td>\n",
       "      <td>1</td>\n",
       "      <td>2</td>\n",
       "    </tr>\n",
       "    <tr>\n",
       "      <th>5654</th>\n",
       "      <td>$penn coin</td>\n",
       "      <td>2</td>\n",
       "      <td>Neutral</td>\n",
       "      <td>1</td>\n",
       "      <td>2</td>\n",
       "    </tr>\n",
       "    <tr>\n",
       "      <th>6511</th>\n",
       "      <td>Housing Starts</td>\n",
       "      <td>2</td>\n",
       "      <td>Neutral</td>\n",
       "      <td>1</td>\n",
       "      <td>2</td>\n",
       "    </tr>\n",
       "    <tr>\n",
       "      <th>7276</th>\n",
       "      <td>Kudlow https://t.co/owfUNJQzrb</td>\n",
       "      <td>2</td>\n",
       "      <td>Neutral</td>\n",
       "      <td>1</td>\n",
       "      <td>2</td>\n",
       "    </tr>\n",
       "    <tr>\n",
       "      <th>7935</th>\n",
       "      <td>$WW heavy....</td>\n",
       "      <td>1</td>\n",
       "      <td>Bullish</td>\n",
       "      <td>2</td>\n",
       "      <td>2</td>\n",
       "    </tr>\n",
       "    <tr>\n",
       "      <th>8055</th>\n",
       "      <td>Long $WMT</td>\n",
       "      <td>1</td>\n",
       "      <td>Bullish</td>\n",
       "      <td>2</td>\n",
       "      <td>2</td>\n",
       "    </tr>\n",
       "    <tr>\n",
       "      <th>8268</th>\n",
       "      <td>$SOXL https://t.co/fjxLlOjDJu</td>\n",
       "      <td>2</td>\n",
       "      <td>Neutral</td>\n",
       "      <td>1</td>\n",
       "      <td>2</td>\n",
       "    </tr>\n",
       "    <tr>\n",
       "      <th>8290</th>\n",
       "      <td>$TSLA</td>\n",
       "      <td>2</td>\n",
       "      <td>Neutral</td>\n",
       "      <td>1</td>\n",
       "      <td>1</td>\n",
       "    </tr>\n",
       "    <tr>\n",
       "      <th>8382</th>\n",
       "      <td>ACHV</td>\n",
       "      <td>2</td>\n",
       "      <td>Neutral</td>\n",
       "      <td>1</td>\n",
       "      <td>1</td>\n",
       "    </tr>\n",
       "    <tr>\n",
       "      <th>8387</th>\n",
       "      <td>AMRN</td>\n",
       "      <td>2</td>\n",
       "      <td>Neutral</td>\n",
       "      <td>1</td>\n",
       "      <td>1</td>\n",
       "    </tr>\n",
       "    <tr>\n",
       "      <th>8420</th>\n",
       "      <td>BWAY</td>\n",
       "      <td>2</td>\n",
       "      <td>Neutral</td>\n",
       "      <td>1</td>\n",
       "      <td>1</td>\n",
       "    </tr>\n",
       "    <tr>\n",
       "      <th>8448</th>\n",
       "      <td>DFND</td>\n",
       "      <td>2</td>\n",
       "      <td>Neutral</td>\n",
       "      <td>1</td>\n",
       "      <td>1</td>\n",
       "    </tr>\n",
       "    <tr>\n",
       "      <th>8470</th>\n",
       "      <td>DMPI</td>\n",
       "      <td>2</td>\n",
       "      <td>Neutral</td>\n",
       "      <td>1</td>\n",
       "      <td>1</td>\n",
       "    </tr>\n",
       "    <tr>\n",
       "      <th>8535</th>\n",
       "      <td>GSMA：気候の非常事態への対策として大幅な炭素削減を可能にするモバイル技術</td>\n",
       "      <td>2</td>\n",
       "      <td>Neutral</td>\n",
       "      <td>1</td>\n",
       "      <td>1</td>\n",
       "    </tr>\n",
       "    <tr>\n",
       "      <th>8590</th>\n",
       "      <td>HOML</td>\n",
       "      <td>2</td>\n",
       "      <td>Neutral</td>\n",
       "      <td>1</td>\n",
       "      <td>1</td>\n",
       "    </tr>\n",
       "    <tr>\n",
       "      <th>8616</th>\n",
       "      <td>HSAC</td>\n",
       "      <td>2</td>\n",
       "      <td>Neutral</td>\n",
       "      <td>1</td>\n",
       "      <td>1</td>\n",
       "    </tr>\n",
       "    <tr>\n",
       "      <th>8618</th>\n",
       "      <td>ICYMI</td>\n",
       "      <td>2</td>\n",
       "      <td>Neutral</td>\n",
       "      <td>1</td>\n",
       "      <td>1</td>\n",
       "    </tr>\n",
       "    <tr>\n",
       "      <th>8761</th>\n",
       "      <td>LHC</td>\n",
       "      <td>2</td>\n",
       "      <td>Neutral</td>\n",
       "      <td>1</td>\n",
       "      <td>1</td>\n",
       "    </tr>\n",
       "    <tr>\n",
       "      <th>8762</th>\n",
       "      <td>LHC.U</td>\n",
       "      <td>2</td>\n",
       "      <td>Neutral</td>\n",
       "      <td>1</td>\n",
       "      <td>1</td>\n",
       "    </tr>\n",
       "    <tr>\n",
       "      <th>8763</th>\n",
       "      <td>LHC.W</td>\n",
       "      <td>2</td>\n",
       "      <td>Neutral</td>\n",
       "      <td>1</td>\n",
       "      <td>1</td>\n",
       "    </tr>\n",
       "    <tr>\n",
       "      <th>8764</th>\n",
       "      <td>LJPC</td>\n",
       "      <td>2</td>\n",
       "      <td>Neutral</td>\n",
       "      <td>1</td>\n",
       "      <td>1</td>\n",
       "    </tr>\n",
       "    <tr>\n",
       "      <th>8766</th>\n",
       "      <td>LMPX</td>\n",
       "      <td>2</td>\n",
       "      <td>Neutral</td>\n",
       "      <td>1</td>\n",
       "      <td>1</td>\n",
       "    </tr>\n",
       "    <tr>\n",
       "      <th>8767</th>\n",
       "      <td>LTRPB</td>\n",
       "      <td>2</td>\n",
       "      <td>Neutral</td>\n",
       "      <td>1</td>\n",
       "      <td>1</td>\n",
       "    </tr>\n",
       "    <tr>\n",
       "      <th>8791</th>\n",
       "      <td>PECK</td>\n",
       "      <td>2</td>\n",
       "      <td>Neutral</td>\n",
       "      <td>1</td>\n",
       "      <td>1</td>\n",
       "    </tr>\n",
       "    <tr>\n",
       "      <th>8805</th>\n",
       "      <td>SBFGP</td>\n",
       "      <td>2</td>\n",
       "      <td>Neutral</td>\n",
       "      <td>1</td>\n",
       "      <td>1</td>\n",
       "    </tr>\n",
       "    <tr>\n",
       "      <th>8878</th>\n",
       "      <td>WBK</td>\n",
       "      <td>2</td>\n",
       "      <td>Neutral</td>\n",
       "      <td>1</td>\n",
       "      <td>1</td>\n",
       "    </tr>\n",
       "  </tbody>\n",
       "</table>\n",
       "</div>"
      ],
      "text/plain": [
       "                                        text  label sentiment  scale  \\\n",
       "1858                        SASA聚酯选用英威达PTA技术      2   Neutral      1   \n",
       "3090                               Brent +4%      1   Bullish      2   \n",
       "3943                                      :)      2   Neutral      1   \n",
       "3945             @MikeCaymanTrades sometimes      2   Neutral      1   \n",
       "3948                                 @TicToc      2   Neutral      1   \n",
       "3980                           100% Correct!      2   Neutral      1   \n",
       "4360                                    Damn      2   Neutral      1   \n",
       "4440                                      F5      2   Neutral      1   \n",
       "4681                 https://t.co/575AH1YRkF      2   Neutral      1   \n",
       "4682                 https://t.co/9eZPvQhfMq      2   Neutral      1   \n",
       "4683                 https://t.co/oJxNPEUpWq      2   Neutral      1   \n",
       "4914                              Next week.      2   Neutral      1   \n",
       "5484                         Wholesale Trade      2   Neutral      1   \n",
       "5505                Wipro赢得Marelli的多年战略性IT协议      2   Neutral      1   \n",
       "5512                              Woke Sachs      2   Neutral      1   \n",
       "5654                              $penn coin      2   Neutral      1   \n",
       "6511                          Housing Starts      2   Neutral      1   \n",
       "7276          Kudlow https://t.co/owfUNJQzrb      2   Neutral      1   \n",
       "7935                           $WW heavy....      1   Bullish      2   \n",
       "8055                               Long $WMT      1   Bullish      2   \n",
       "8268           $SOXL https://t.co/fjxLlOjDJu      2   Neutral      1   \n",
       "8290                                   $TSLA      2   Neutral      1   \n",
       "8382                                    ACHV      2   Neutral      1   \n",
       "8387                                    AMRN      2   Neutral      1   \n",
       "8420                                    BWAY      2   Neutral      1   \n",
       "8448                                    DFND      2   Neutral      1   \n",
       "8470                                    DMPI      2   Neutral      1   \n",
       "8535  GSMA：気候の非常事態への対策として大幅な炭素削減を可能にするモバイル技術      2   Neutral      1   \n",
       "8590                                    HOML      2   Neutral      1   \n",
       "8616                                    HSAC      2   Neutral      1   \n",
       "8618                                   ICYMI      2   Neutral      1   \n",
       "8761                                     LHC      2   Neutral      1   \n",
       "8762                                   LHC.U      2   Neutral      1   \n",
       "8763                                   LHC.W      2   Neutral      1   \n",
       "8764                                    LJPC      2   Neutral      1   \n",
       "8766                                    LMPX      2   Neutral      1   \n",
       "8767                                   LTRPB      2   Neutral      1   \n",
       "8791                                    PECK      2   Neutral      1   \n",
       "8805                                   SBFGP      2   Neutral      1   \n",
       "8878                                     WBK      2   Neutral      1   \n",
       "\n",
       "      word_count  \n",
       "1858           1  \n",
       "3090           2  \n",
       "3943           1  \n",
       "3945           2  \n",
       "3948           1  \n",
       "3980           2  \n",
       "4360           1  \n",
       "4440           1  \n",
       "4681           1  \n",
       "4682           1  \n",
       "4683           1  \n",
       "4914           2  \n",
       "5484           2  \n",
       "5505           1  \n",
       "5512           2  \n",
       "5654           2  \n",
       "6511           2  \n",
       "7276           2  \n",
       "7935           2  \n",
       "8055           2  \n",
       "8268           2  \n",
       "8290           1  \n",
       "8382           1  \n",
       "8387           1  \n",
       "8420           1  \n",
       "8448           1  \n",
       "8470           1  \n",
       "8535           1  \n",
       "8590           1  \n",
       "8616           1  \n",
       "8618           1  \n",
       "8761           1  \n",
       "8762           1  \n",
       "8763           1  \n",
       "8764           1  \n",
       "8766           1  \n",
       "8767           1  \n",
       "8791           1  \n",
       "8805           1  \n",
       "8878           1  "
      ]
     },
     "execution_count": 199,
     "metadata": {},
     "output_type": "execute_result"
    }
   ],
   "source": [
    "df_train[df_train['word_count'] <= 2]"
   ]
  },
  {
   "cell_type": "code",
   "execution_count": 200,
   "id": "ef5a2ba8",
   "metadata": {},
   "outputs": [
    {
     "data": {
      "image/png": "[encoded data removed]",
      "text/plain": [
       "<Figure size 640x480 with 1 Axes>"
      ]
     },
     "metadata": {},
     "output_type": "display_data"
    }
   ],
   "source": [
    "sns.histplot(df_train['word_count'], bins=20)\n",
    "plt.title(\"Distribution of Text Lengths (raw text)\")\n",
    "plt.xlabel(\"Length of text\")\n",
    "plt.ylabel(\"Frequency\")\n",
    "plt.show()"
   ]
  },
  {
   "cell_type": "code",
   "execution_count": 201,
   "id": "c272a047",
   "metadata": {},
   "outputs": [
    {
     "data": {
      "image/png": "[encoded data removed]",
      "text/plain": [
       "<Figure size 640x480 with 1 Axes>"
      ]
     },
     "metadata": {},
     "output_type": "display_data"
    }
   ],
   "source": [
    "raw_text = ' '.join(df_train['text'].fillna('')).lower()\n",
    "raw_wc = WordCloud(width=800, height=400, background_color='white').generate(raw_text)\n",
    "plt.imshow(raw_wc, interpolation='bilinear')\n",
    "plt.axis('off')\n",
    "plt.title('Word Cloud (Raw Text)')\n",
    "plt.show()"
   ]
  },
  {
   "cell_type": "code",
   "execution_count": 202,
   "id": "07d5a2f7",
   "metadata": {},
   "outputs": [
    {
     "data": {
      "application/vnd.microsoft.datawrangler.viewer.v0+json": {
       "columns": [
        {
         "name": "index",
         "rawType": "int64",
         "type": "integer"
        },
        {
         "name": "text",
         "rawType": "object",
         "type": "string"
        }
       ],
       "ref": "1388e450-d65e-4714-9c0c-fe112b7fb95a",
       "rows": [
        [
         "10",
         "$HOG - Moody's warns on Harley-Davidson https://t.co/LurHBEadeU"
        ],
        [
         "11",
         "$HXL - Citing aero ties, Wells slashes PT on Hexcel https://t.co/wU5P2i8WBU"
        ],
        [
         "12",
         "$I - Intelsat cut to Market Perform at Raymond James https://t.co/YsvsMSQRIb"
        ],
        [
         "13",
         "$KRG: Compass Point cuts to Sell https://t.co/MCyfTsXc2N"
        ],
        [
         "14",
         "$LK - Muddy Waters goes short Luckin Coffee https://t.co/8yrbwAjLKG"
        ],
        [
         "15",
         "$MANT - ManTech downgraded ahead of difficult comps https://t.co/mJ1eSrsFXJ"
        ],
        [
         "16",
         "$MDCO: Oppenheimer cuts to Perform"
        ],
        [
         "17",
         "$MPLX $MPC - MPLX cut at Credit Suisse on potential dilution from Marathon strategic review https://t.co/0BFQy4ZU6W"
        ],
        [
         "18",
         "$MSGN - Imperial downgrades MSG Networks amid sports-free airwaves https://t.co/Ul2S6XNXw8"
        ],
        [
         "19",
         "$MTLS - Piper hits the Materialise sidelines https://t.co/qlFxZuhkrt"
        ]
       ],
       "shape": {
        "columns": 1,
        "rows": 10
       }
      },
      "text/plain": [
       "10    $HOG - Moody's warns on Harley-Davidson https:...\n",
       "11    $HXL - Citing aero ties, Wells slashes PT on H...\n",
       "12    $I - Intelsat cut to Market Perform at Raymond...\n",
       "13    $KRG: Compass Point cuts to Sell https://t.co/...\n",
       "14    $LK - Muddy Waters goes short Luckin Coffee ht...\n",
       "15    $MANT - ManTech downgraded ahead of difficult ...\n",
       "16                   $MDCO: Oppenheimer cuts to Perform\n",
       "17    $MPLX $MPC - MPLX cut at Credit Suisse on pote...\n",
       "18    $MSGN - Imperial downgrades MSG Networks amid ...\n",
       "19    $MTLS - Piper hits the Materialise sidelines h...\n",
       "Name: text, dtype: object"
      ]
     },
     "execution_count": 202,
     "metadata": {},
     "output_type": "execute_result"
    }
   ],
   "source": [
    "df_train['text'][10:20]"
   ]
  },
  {
   "cell_type": "code",
   "execution_count": 203,
   "id": "9e69189b",
   "metadata": {},
   "outputs": [],
   "source": [
    "# add binary columns \"has_link\"\n",
    "df_train['has_link'] = df_train['text'].apply(lambda x: 1 if 'http' in str(x) else 0)"
   ]
  },
  {
   "cell_type": "code",
   "execution_count": 204,
   "id": "3d7fd396",
   "metadata": {},
   "outputs": [
    {
     "data": {
      "text/html": [
       "<div>\n",
       "<style scoped>\n",
       "    .dataframe tbody tr th:only-of-type {\n",
       "        vertical-align: middle;\n",
       "    }\n",
       "\n",
       "    .dataframe tbody tr th {\n",
       "        vertical-align: top;\n",
       "    }\n",
       "\n",
       "    .dataframe thead th {\n",
       "        text-align: right;\n",
       "    }\n",
       "</style>\n",
       "<table border=\"1\" class=\"dataframe\">\n",
       "  <thead>\n",
       "    <tr style=\"text-align: right;\">\n",
       "      <th></th>\n",
       "      <th>text</th>\n",
       "      <th>label</th>\n",
       "      <th>sentiment</th>\n",
       "      <th>scale</th>\n",
       "      <th>word_count</th>\n",
       "      <th>has_link</th>\n",
       "    </tr>\n",
       "  </thead>\n",
       "  <tbody>\n",
       "    <tr>\n",
       "      <th>0</th>\n",
       "      <td>$BYND - JPMorgan reels in expectations on Beyo...</td>\n",
       "      <td>0</td>\n",
       "      <td>Bearish</td>\n",
       "      <td>0</td>\n",
       "      <td>10</td>\n",
       "      <td>1</td>\n",
       "    </tr>\n",
       "    <tr>\n",
       "      <th>1</th>\n",
       "      <td>$CCL $RCL - Nomura points to bookings weakness...</td>\n",
       "      <td>0</td>\n",
       "      <td>Bearish</td>\n",
       "      <td>0</td>\n",
       "      <td>14</td>\n",
       "      <td>1</td>\n",
       "    </tr>\n",
       "    <tr>\n",
       "      <th>2</th>\n",
       "      <td>$CX - Cemex cut at Credit Suisse, J.P. Morgan ...</td>\n",
       "      <td>0</td>\n",
       "      <td>Bearish</td>\n",
       "      <td>0</td>\n",
       "      <td>14</td>\n",
       "      <td>1</td>\n",
       "    </tr>\n",
       "    <tr>\n",
       "      <th>3</th>\n",
       "      <td>$ESS: BTIG Research cuts to Neutral https://t....</td>\n",
       "      <td>0</td>\n",
       "      <td>Bearish</td>\n",
       "      <td>0</td>\n",
       "      <td>7</td>\n",
       "      <td>1</td>\n",
       "    </tr>\n",
       "    <tr>\n",
       "      <th>4</th>\n",
       "      <td>$FNKO - Funko slides after Piper Jaffray PT cu...</td>\n",
       "      <td>0</td>\n",
       "      <td>Bearish</td>\n",
       "      <td>0</td>\n",
       "      <td>10</td>\n",
       "      <td>1</td>\n",
       "    </tr>\n",
       "    <tr>\n",
       "      <th>...</th>\n",
       "      <td>...</td>\n",
       "      <td>...</td>\n",
       "      <td>...</td>\n",
       "      <td>...</td>\n",
       "      <td>...</td>\n",
       "      <td>...</td>\n",
       "    </tr>\n",
       "    <tr>\n",
       "      <th>9513</th>\n",
       "      <td>Luckin Coffee shares halted in premarket; news...</td>\n",
       "      <td>2</td>\n",
       "      <td>Neutral</td>\n",
       "      <td>1</td>\n",
       "      <td>9</td>\n",
       "      <td>1</td>\n",
       "    </tr>\n",
       "    <tr>\n",
       "      <th>9529</th>\n",
       "      <td>Stocks making the biggest moves midday: Amazon...</td>\n",
       "      <td>2</td>\n",
       "      <td>Neutral</td>\n",
       "      <td>1</td>\n",
       "      <td>13</td>\n",
       "      <td>1</td>\n",
       "    </tr>\n",
       "    <tr>\n",
       "      <th>9534</th>\n",
       "      <td>Stocks making the biggest moves midday: Tesla,...</td>\n",
       "      <td>2</td>\n",
       "      <td>Neutral</td>\n",
       "      <td>1</td>\n",
       "      <td>15</td>\n",
       "      <td>1</td>\n",
       "    </tr>\n",
       "    <tr>\n",
       "      <th>9535</th>\n",
       "      <td>Stocks making the biggest moves midday: Uber, ...</td>\n",
       "      <td>2</td>\n",
       "      <td>Neutral</td>\n",
       "      <td>1</td>\n",
       "      <td>14</td>\n",
       "      <td>1</td>\n",
       "    </tr>\n",
       "    <tr>\n",
       "      <th>9538</th>\n",
       "      <td>The Week's Gainers and Losers on the Stoxx Eur...</td>\n",
       "      <td>2</td>\n",
       "      <td>Neutral</td>\n",
       "      <td>1</td>\n",
       "      <td>16</td>\n",
       "      <td>1</td>\n",
       "    </tr>\n",
       "  </tbody>\n",
       "</table>\n",
       "<p>4470 rows × 6 columns</p>\n",
       "</div>"
      ],
      "text/plain": [
       "                                                   text  label sentiment  \\\n",
       "0     $BYND - JPMorgan reels in expectations on Beyo...      0   Bearish   \n",
       "1     $CCL $RCL - Nomura points to bookings weakness...      0   Bearish   \n",
       "2     $CX - Cemex cut at Credit Suisse, J.P. Morgan ...      0   Bearish   \n",
       "3     $ESS: BTIG Research cuts to Neutral https://t....      0   Bearish   \n",
       "4     $FNKO - Funko slides after Piper Jaffray PT cu...      0   Bearish   \n",
       "...                                                 ...    ...       ...   \n",
       "9513  Luckin Coffee shares halted in premarket; news...      2   Neutral   \n",
       "9529  Stocks making the biggest moves midday: Amazon...      2   Neutral   \n",
       "9534  Stocks making the biggest moves midday: Tesla,...      2   Neutral   \n",
       "9535  Stocks making the biggest moves midday: Uber, ...      2   Neutral   \n",
       "9538  The Week's Gainers and Losers on the Stoxx Eur...      2   Neutral   \n",
       "\n",
       "      scale  word_count  has_link  \n",
       "0         0          10         1  \n",
       "1         0          14         1  \n",
       "2         0          14         1  \n",
       "3         0           7         1  \n",
       "4         0          10         1  \n",
       "...     ...         ...       ...  \n",
       "9513      1           9         1  \n",
       "9529      1          13         1  \n",
       "9534      1          15         1  \n",
       "9535      1          14         1  \n",
       "9538      1          16         1  \n",
       "\n",
       "[4470 rows x 6 columns]"
      ]
     },
     "execution_count": 204,
     "metadata": {},
     "output_type": "execute_result"
    }
   ],
   "source": [
    "df_train[df_train['has_link']==1]"
   ]
  },
  {
   "cell_type": "code",
   "execution_count": 205,
   "id": "0e751a6c",
   "metadata": {},
   "outputs": [
    {
     "data": {
      "image/png": "[encoded data removed]",
      "text/plain": [
       "<Figure size 1200x600 with 2 Axes>"
      ]
     },
     "metadata": {},
     "output_type": "display_data"
    }
   ],
   "source": [
    "# Pie charts for sentiment distribution by presence of link\n",
    "\n",
    "fig, axes = plt.subplots(1, 2, figsize=(12, 6))\n",
    "\n",
    "# Data for has_link = 0\n",
    "no_link_counts = df_train[df_train['has_link'] == 0]['sentiment'].value_counts()\n",
    "axes[0].pie(no_link_counts, labels=no_link_counts.index, autopct='%1.1f%%', colors=['slategrey', 'forestgreen', 'red'])\n",
    "axes[0].set_title('Sentiment Distribution (No Link)')\n",
    "\n",
    "# Data for has_link = 1\n",
    "link_counts = df_train[df_train['has_link'] == 1]['sentiment'].value_counts()\n",
    "axes[1].pie(link_counts, labels=link_counts.index, autopct='%1.1f%%', colors=['slategrey', 'forestgreen', 'red'])\n",
    "axes[1].set_title('Sentiment Distribution (Has Link)')\n",
    "\n",
    "plt.tight_layout()\n",
    "plt.show()"
   ]
  },
  {
   "cell_type": "markdown",
   "id": "ca0b6255",
   "metadata": {},
   "source": [
    "# 4. Tokenization"
   ]
  },
  {
   "cell_type": "code",
   "execution_count": 206,
   "id": "d73ed6fd",
   "metadata": {},
   "outputs": [],
   "source": [
    "stop = set(stopwords.words('english'))\n",
    "stemmer = SnowballStemmer(\"english\")\n",
    "lemma = WordNetLemmatizer()\n",
    "\n",
    "def clean(text_list, lemmatize, stemmer):\n",
    "\n",
    "    updates = []\n",
    "\n",
    "    for j in tqdm(text_list):\n",
    "\n",
    "        text = j\n",
    "\n",
    "        #LOWERCASE TEXT\n",
    "        text = text.lower()\n",
    "\n",
    "        #REMOVE NUMERICAL DATA and PUNCTUATION\n",
    "        text = re.sub(\"[^a-zA-Z]\",\" \", text )\n",
    "        # [^&] - Returns a match for any character EXCEPT &.\n",
    "        # a-zA-Z - Returns a match for any character alphabetically between a and z, lower case or upper case.\n",
    "        text = re.sub(\"br\", \"\", text)  # remove \"br\"\n",
    "        text = re.sub(r'http\\S+', '', text)  # remove URLs\n",
    "        text = re.sub(f\"[{re.escape(string.punctuation)}]\", '', text)  # remove punctuation\n",
    "\n",
    "\n",
    "        #REMOVE STOPWORDS\n",
    "        text = \" \".join([word for word in text.split() if word not in stop])\n",
    "\n",
    "        #Lemmatize\n",
    "        if lemmatize:\n",
    "            text = \" \".join(lemma.lemmatize(word) for word in text.split())\n",
    "\n",
    "        #Stemming\n",
    "        if stemmer:\n",
    "            text = \" \".join(stemmer.stem(word) for word in text.split())\n",
    "\n",
    "        updates.append(text)\n",
    "\n",
    "    return updates"
   ]
  },
  {
   "cell_type": "code",
   "execution_count": 207,
   "id": "0d9f14fd",
   "metadata": {},
   "outputs": [
    {
     "name": "stderr",
     "output_type": "stream",
     "text": [
      "100%|██████████| 9543/9543 [00:00<00:00, 15417.19it/s]\n"
     ]
    }
   ],
   "source": [
    "updates = clean(df_train['text'], lemmatize = True, stemmer = False)"
   ]
  },
  {
   "cell_type": "code",
   "execution_count": 208,
   "id": "07159128",
   "metadata": {},
   "outputs": [
    {
     "data": {
      "text/plain": [
       "'autodesk downgraded underweight neutral jpmorgan'"
      ]
     },
     "execution_count": 208,
     "metadata": {},
     "output_type": "execute_result"
    }
   ],
   "source": [
    "updates[40]"
   ]
  },
  {
   "cell_type": "code",
   "execution_count": 209,
   "id": "477c01e7",
   "metadata": {},
   "outputs": [
    {
     "data": {
      "text/plain": [
       "'Autodesk downgraded to underweight from neutral at JPMorgan'"
      ]
     },
     "execution_count": 209,
     "metadata": {},
     "output_type": "execute_result"
    }
   ],
   "source": [
    "df_train['text'][40]"
   ]
  },
  {
   "cell_type": "code",
   "execution_count": 210,
   "id": "6e90a90b",
   "metadata": {},
   "outputs": [],
   "source": [
    "def update_df(dataframe, list_updated):\n",
    "    dataframe.update(pd.DataFrame({\"text\": list_updated}))"
   ]
  },
  {
   "cell_type": "code",
   "execution_count": 211,
   "id": "3194bf59",
   "metadata": {},
   "outputs": [
    {
     "data": {
      "text/html": [
       "<div>\n",
       "<style scoped>\n",
       "    .dataframe tbody tr th:only-of-type {\n",
       "        vertical-align: middle;\n",
       "    }\n",
       "\n",
       "    .dataframe tbody tr th {\n",
       "        vertical-align: top;\n",
       "    }\n",
       "\n",
       "    .dataframe thead th {\n",
       "        text-align: right;\n",
       "    }\n",
       "</style>\n",
       "<table border=\"1\" class=\"dataframe\">\n",
       "  <thead>\n",
       "    <tr style=\"text-align: right;\">\n",
       "      <th></th>\n",
       "      <th>text</th>\n",
       "      <th>label</th>\n",
       "      <th>sentiment</th>\n",
       "      <th>scale</th>\n",
       "      <th>word_count</th>\n",
       "      <th>has_link</th>\n",
       "    </tr>\n",
       "  </thead>\n",
       "  <tbody>\n",
       "    <tr>\n",
       "      <th>0</th>\n",
       "      <td>bynd jpmorgan reel expectation beyond meat co ...</td>\n",
       "      <td>0</td>\n",
       "      <td>Bearish</td>\n",
       "      <td>0</td>\n",
       "      <td>10</td>\n",
       "      <td>1</td>\n",
       "    </tr>\n",
       "    <tr>\n",
       "      <th>1</th>\n",
       "      <td>ccl rcl nomura point booking weakness carnival...</td>\n",
       "      <td>0</td>\n",
       "      <td>Bearish</td>\n",
       "      <td>0</td>\n",
       "      <td>14</td>\n",
       "      <td>1</td>\n",
       "    </tr>\n",
       "    <tr>\n",
       "      <th>2</th>\n",
       "      <td>cx cemex cut credit suisse j p morgan weak bui...</td>\n",
       "      <td>0</td>\n",
       "      <td>Bearish</td>\n",
       "      <td>0</td>\n",
       "      <td>14</td>\n",
       "      <td>1</td>\n",
       "    </tr>\n",
       "    <tr>\n",
       "      <th>3</th>\n",
       "      <td>es btig research cut neutral co mcyftsxc n</td>\n",
       "      <td>0</td>\n",
       "      <td>Bearish</td>\n",
       "      <td>0</td>\n",
       "      <td>7</td>\n",
       "      <td>1</td>\n",
       "    </tr>\n",
       "    <tr>\n",
       "      <th>4</th>\n",
       "      <td>fnko funko slide piper jaffray pt cut co z ijm...</td>\n",
       "      <td>0</td>\n",
       "      <td>Bearish</td>\n",
       "      <td>0</td>\n",
       "      <td>10</td>\n",
       "      <td>1</td>\n",
       "    </tr>\n",
       "  </tbody>\n",
       "</table>\n",
       "</div>"
      ],
      "text/plain": [
       "                                                text  label sentiment  scale  \\\n",
       "0  bynd jpmorgan reel expectation beyond meat co ...      0   Bearish      0   \n",
       "1  ccl rcl nomura point booking weakness carnival...      0   Bearish      0   \n",
       "2  cx cemex cut credit suisse j p morgan weak bui...      0   Bearish      0   \n",
       "3         es btig research cut neutral co mcyftsxc n      0   Bearish      0   \n",
       "4  fnko funko slide piper jaffray pt cut co z ijm...      0   Bearish      0   \n",
       "\n",
       "   word_count  has_link  \n",
       "0          10         1  \n",
       "1          14         1  \n",
       "2          14         1  \n",
       "3           7         1  \n",
       "4          10         1  "
      ]
     },
     "execution_count": 211,
     "metadata": {},
     "output_type": "execute_result"
    }
   ],
   "source": [
    "update_df(df_train, updates)\n",
    "df_train.head()"
   ]
  },
  {
   "cell_type": "markdown",
   "id": "e171b4a5",
   "metadata": {},
   "source": [
    "# 5. Bag of Words (BoW)"
   ]
  },
  {
   "cell_type": "code",
   "execution_count": 215,
   "id": "e5a19f9e",
   "metadata": {},
   "outputs": [],
   "source": [
    "bow = CountVectorizer(binary=True)\n",
    "X = bow.fit_transform(df_train[\"text\"])"
   ]
  },
  {
   "cell_type": "code",
   "execution_count": 225,
   "id": "e2b1dbb3",
   "metadata": {},
   "outputs": [
    {
     "name": "stdout",
     "output_type": "stream",
     "text": [
      "['los' 'lose' 'loser' 'loses' 'losing' 'loss' 'lost' 'lot' 'lotos' 'lotpf'\n",
      " 'lottery' 'louder' 'louis' 'louisiana' 'love' 'loved' 'lovely' 'lover'\n",
      " 'lovesac' 'loving' 'low' 'lowbonar' 'lowe' 'lower' 'lowered' 'lowest'\n",
      " 'loyalty' 'lp' 'lphegpva' 'lphk' 'lpi' 'lpj' 'lpkgzpcf' 'lplizqtwme'\n",
      " 'lpngn' 'lpuucorz' 'lpy' 'lq' 'lqd' 'lqdt' 'lqemiipuxz' 'lqh' 'lqi'\n",
      " 'lqla' 'lqmh' 'lqy' 'lqya' 'lr' 'lrad' 'lrcx']\n"
     ]
    }
   ],
   "source": [
    "print(bow.get_feature_names_out()[10000:10050])  # Display some features"
   ]
  },
  {
   "cell_type": "code",
   "execution_count": 227,
   "id": "8113ca32",
   "metadata": {},
   "outputs": [
    {
     "data": {
      "image/png": "[encoded data removed]",
      "text/plain": [
       "<Figure size 640x480 with 1 Axes>"
      ]
     },
     "metadata": {},
     "output_type": "display_data"
    }
   ],
   "source": [
    "clean_bow_sum = np.array(X.sum(axis=0)).flatten()\n",
    "clean_terms = bow.get_feature_names_out() # in older versions is get_feature_names()\n",
    "clean_top = pd.DataFrame({'term': clean_terms, 'count': clean_bow_sum}).sort_values(by='count', ascending=False).head(30)\n",
    "\n",
    "sns.barplot(data=clean_top, x='count', y='term')\n",
    "plt.title(\"Top Bag-of-Words Terms (Cleaned)\")\n",
    "plt.show()"
   ]
  },
  {
   "cell_type": "markdown",
   "id": "50d59409",
   "metadata": {},
   "source": [
    "---\n",
    "# 6. Train-test Split"
   ]
  },
  {
   "cell_type": "code",
   "execution_count": 212,
   "id": "dc4a5455",
   "metadata": {},
   "outputs": [],
   "source": [
    "X_train, X_val, Y_train, Y_val = train_test_split(\n",
    "    df_train.drop(columns='label'),\n",
    "    df_train['label'],\n",
    "    test_size=0.2,\n",
    "    random_state=42,\n",
    "    stratify=df_train['label']\n",
    ")"
   ]
  },
  {
   "cell_type": "code",
   "execution_count": 213,
   "id": "c9af80fb",
   "metadata": {},
   "outputs": [
    {
     "data": {
      "application/vnd.microsoft.datawrangler.viewer.v0+json": {
       "columns": [
        {
         "name": "index",
         "rawType": "int64",
         "type": "integer"
        },
        {
         "name": "label",
         "rawType": "int64",
         "type": "integer"
        }
       ],
       "ref": "5baa8a49-55ec-49d1-9d1f-2be61c0ad9e7",
       "rows": [
        [
         "2186",
         "2"
        ],
        [
         "6819",
         "1"
        ],
        [
         "6157",
         "0"
        ],
        [
         "2462",
         "0"
        ],
        [
         "4097",
         "2"
        ],
        [
         "4830",
         "2"
        ],
        [
         "8441",
         "2"
        ],
        [
         "4669",
         "2"
        ],
        [
         "2825",
         "2"
        ],
        [
         "8309",
         "2"
        ],
        [
         "1928",
         "2"
        ],
        [
         "8023",
         "1"
        ],
        [
         "8963",
         "0"
        ],
        [
         "342",
         "1"
        ],
        [
         "6273",
         "0"
        ],
        [
         "8762",
         "2"
        ],
        [
         "4732",
         "2"
        ],
        [
         "761",
         "0"
        ],
        [
         "2903",
         "2"
        ],
        [
         "2176",
         "2"
        ],
        [
         "1658",
         "2"
        ],
        [
         "975",
         "1"
        ],
        [
         "6417",
         "1"
        ],
        [
         "7618",
         "2"
        ],
        [
         "5089",
         "2"
        ],
        [
         "3467",
         "1"
        ],
        [
         "58",
         "0"
        ],
        [
         "3567",
         "2"
        ],
        [
         "8010",
         "1"
        ],
        [
         "9247",
         "1"
        ],
        [
         "2942",
         "0"
        ],
        [
         "2266",
         "2"
        ],
        [
         "1939",
         "2"
        ],
        [
         "7366",
         "2"
        ],
        [
         "1630",
         "2"
        ],
        [
         "3412",
         "1"
        ],
        [
         "5318",
         "2"
        ],
        [
         "3230",
         "2"
        ],
        [
         "4430",
         "2"
        ],
        [
         "2317",
         "2"
        ],
        [
         "3151",
         "2"
        ],
        [
         "8166",
         "2"
        ],
        [
         "635",
         "2"
        ],
        [
         "7032",
         "2"
        ],
        [
         "8303",
         "2"
        ],
        [
         "7079",
         "2"
        ],
        [
         "1940",
         "2"
        ],
        [
         "7447",
         "2"
        ],
        [
         "5432",
         "2"
        ],
        [
         "4298",
         "2"
        ]
       ],
       "shape": {
        "columns": 1,
        "rows": 7634
       }
      },
      "text/plain": [
       "2186    2\n",
       "6819    1\n",
       "6157    0\n",
       "2462    0\n",
       "4097    2\n",
       "       ..\n",
       "2807    2\n",
       "704     2\n",
       "990     1\n",
       "4362    2\n",
       "7664    2\n",
       "Name: label, Length: 7634, dtype: int64"
      ]
     },
     "execution_count": 213,
     "metadata": {},
     "output_type": "execute_result"
    }
   ],
   "source": [
    "Y_train"
   ]
  },
  {
   "cell_type": "markdown",
   "id": "14550b61",
   "metadata": {},
   "source": [
    "# Export"
   ]
  },
  {
   "cell_type": "code",
   "execution_count": 214,
   "id": "30f96e05",
   "metadata": {},
   "outputs": [],
   "source": [
    "# X_train.to_csv('../Data/X_train.csv')\n",
    "# X_val.to_csv('../Data/X_val.csv')\n",
    "# Y_train.to_csv('../Data/Y_train.csv')\n",
    "# Y_val.to_csv('../Data/Y_val.csv')"
   ]
  }
 ],
 "metadata": {
  "kernelspec": {
   "display_name": "Python 3",
   "language": "python",
   "name": "python3"
  },
  "language_info": {
   "codemirror_mode": {
    "name": "ipython",
    "version": 3
   },
   "file_extension": ".py",
   "mimetype": "text/x-python",
   "name": "python",
   "nbconvert_exporter": "python",
   "pygments_lexer": "ipython3",
   "version": "3.13.2"
  }
 },
 "nbformat": 4,
 "nbformat_minor": 5
}
