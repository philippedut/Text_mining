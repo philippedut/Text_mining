{
 "cells": [
  {
   "cell_type": "markdown",
   "id": "6e5ff48b",
   "metadata": {},
   "source": [
    "# **Text mining: SENTIMENT ANALYSIS**\n",
    "\n",
    "## 🎓 Master’s Program in Data Science & Advanced Analytics  \n",
    "**Nova IMS** | March 2025  \n",
    "**Course:** Business Cases with Data Science\n",
    "\n",
    "## 👥 Team **Group 34**  \n",
    "- **[Philippe Dutranoit]** | [20240518]  \n",
    "- **[Diogo Duarte]** | [20240525]  \n",
    "- **[Rui luz]** | [20211628]  \n",
    "- **[Rodrigo Sardinha]** | [20211627]  \n",
    "\n",
    "## 📊 Goal of the notebook\n",
    "\n",
    "This notebook focuses on feature selection and engineering for our text-mining project: predicting market sentiment (Bearish, Bullish, Neutral) from Twitter data.  \n"
   ]
  },
  {
   "cell_type": "markdown",
   "id": "f052f0b3",
   "metadata": {},
   "source": [
    "# Imports"
   ]
  },
  {
   "cell_type": "code",
   "execution_count": null,
   "id": "72d0d660",
   "metadata": {},
   "outputs": [],
   "source": [
    "import pandas as pd \n",
    "import numpy as np\n",
    "import matplotlib.pyplot as plt\n",
    "import seaborn as sns\n",
    "\n",
    "from transformers import AutoTokenizer, RobertaForSequenceClassification, pipeline\n",
    "\n",
    "import torch\n",
    "from torch.utils.data import Dataset, DataLoader\n",
    "\n",
    "from sklearn.metrics import classification_report, confusion_matrix"
   ]
  },
  {
   "cell_type": "code",
   "execution_count": null,
   "id": "e7d424eb",
   "metadata": {},
   "outputs": [],
   "source": [
    "X_train = pd.read_csv('../Data/X_train.csv')\n",
    "y_train = pd.read_csv('../Data/y_train.csv')\n",
    "X_test = pd.read_csv('../Data/X_val.csv')\n",
    "y_test = pd.read_csv('../Data/y_val.csv')"
   ]
  },
  {
   "cell_type": "markdown",
   "id": "fc46e035",
   "metadata": {},
   "source": [
    "# Prepocessing "
   ]
  },
  {
   "cell_type": "code",
   "execution_count": null,
   "id": "927c41da",
   "metadata": {},
   "outputs": [],
   "source": [
    "# Define the model \n",
    "MODEL_NAME = 'cardiffnlp/twitter-roberta-base-sentiment-latest'"
   ]
  },
  {
   "cell_type": "markdown",
   "id": "c2e18b94",
   "metadata": {},
   "source": [
    "## Preprocessing with a tokenizer"
   ]
  },
  {
   "cell_type": "markdown",
   "id": "8ff3d87a",
   "metadata": {},
   "source": [
    "### Define tokenizer"
   ]
  },
  {
   "cell_type": "code",
   "execution_count": null,
   "id": "b53dc7da",
   "metadata": {},
   "outputs": [],
   "source": [
    "# load the tokenizer\n",
    "tokenizer = AutoTokenizer.from_pretrained(MODEL_NAME)"
   ]
  },
  {
   "cell_type": "markdown",
   "id": "0a4d446c",
   "metadata": {},
   "source": [
    "# Use a pre-trained Pipeline"
   ]
  },
  {
   "cell_type": "markdown",
   "id": "d073f882",
   "metadata": {},
   "source": [
    "Here we are using the Huggingface pipeline(\"sentiment-analysis\") to evaluate the performance of a pre-trained Transformer model on our validation set. The model is used in inference mode only, without being trained on our data. Providing a baseline to compare later with our own fine-tuned model."
   ]
  },
  {
   "cell_type": "code",
   "execution_count": null,
   "id": "f140c840",
   "metadata": {},
   "outputs": [],
   "source": [
    "# Load pipeline\n",
    "classifier = pipeline(\n",
    "    \"sentiment-analysis\",\n",
    "    model=MODEL_NAME,\n",
    "    tokenizer=MODEL_NAME,\n",
    "    batch_size=16,\n",
    "    device_map=\"auto\",\n",
    "    truncation=True\n",
    ")"
   ]
  },
  {
   "cell_type": "markdown",
   "id": "5247834b",
   "metadata": {},
   "source": [
    "#### Run pipeline on validation set"
   ]
  },
  {
   "cell_type": "code",
   "execution_count": null,
   "id": "9679e3f6",
   "metadata": {},
   "outputs": [],
   "source": [
    "# Prepare texts\n",
    "val_texts = X_test[\"text\"].tolist()\n",
    "\n",
    "# Run pipeline on full validation set\n",
    "preds = classifier(val_texts)"
   ]
  },
  {
   "cell_type": "markdown",
   "id": "68bbce27",
   "metadata": {},
   "source": [
    "#### Map predicted labels to int"
   ]
  },
  {
   "cell_type": "code",
   "execution_count": null,
   "id": "ba83b1d7",
   "metadata": {},
   "outputs": [],
   "source": [
    "# Map label to int\n",
    "label_map = {\n",
    "    \"negative\": 0,  # Bearish\n",
    "    \"positive\": 1,  # Bullish\n",
    "    \"neutral\": 2    # Neutral\n",
    "}\n",
    "\n",
    "y_pred_pipeline = [label_map[pred['label']] for pred in preds]"
   ]
  },
  {
   "cell_type": "markdown",
   "id": "9d0792dd",
   "metadata": {},
   "source": [
    "#### Evaluate"
   ]
  },
  {
   "cell_type": "code",
   "execution_count": null,
   "id": "8fcdab4e",
   "metadata": {},
   "outputs": [],
   "source": [
    "# True labels\n",
    "y_true = y_test[\"label\"].tolist()\n",
    "\n",
    "# Print evaluation metrics\n",
    "print(classification_report(y_true, y_pred_pipeline, digits=4))"
   ]
  },
  {
   "cell_type": "code",
   "execution_count": null,
   "id": "f0e98ec3",
   "metadata": {},
   "outputs": [],
   "source": [
    "cm = confusion_matrix(y_true, y_pred_pipeline)\n",
    "\n",
    "plt.figure(figsize=(6, 4))\n",
    "sns.heatmap(cm, annot=True, fmt=\"d\", cmap=\"Blues\", xticklabels=[0,1,2], yticklabels=[0,1,2])\n",
    "plt.xlabel(\"Predicted Label\")\n",
    "plt.ylabel(\"True Label\")\n",
    "plt.title(\"Confusion Matrix\")\n",
    "plt.show()"
   ]
  },
  {
   "cell_type": "markdown",
   "id": "c623b51a",
   "metadata": {},
   "source": [
    "## Model Training "
   ]
  },
  {
   "cell_type": "markdown",
   "id": "12fb83a2",
   "metadata": {},
   "source": [
    "# Test"
   ]
  },
  {
   "cell_type": "code",
   "execution_count": null,
   "id": "994846f4",
   "metadata": {},
   "outputs": [],
   "source": [
    "# Define reusable pipeline evaluation function\n",
    "def evaluate_pipeline_model(model_name, val_texts, y_true):\n",
    "    print(f\"\\n--- Evaluating model: {model_name} ---\")\n",
    "    \n",
    "    # Some models do not support device_map='auto' → safe to try without\n",
    "    if \"distilbert\" in model_name:\n",
    "        classifier = pipeline(\n",
    "            \"sentiment-analysis\",\n",
    "            model=model_name,\n",
    "            tokenizer=model_name,\n",
    "            batch_size=16,\n",
    "            truncation=True\n",
    "        )\n",
    "    else:\n",
    "        classifier = pipeline(\n",
    "            \"sentiment-analysis\",\n",
    "            model=model_name,\n",
    "            tokenizer=model_name,\n",
    "            batch_size=16,\n",
    "            device_map=\"auto\",\n",
    "            truncation=True\n",
    "        )\n",
    "    \n",
    "    # Run pipeline\n",
    "    preds = classifier(val_texts)\n",
    "    \n",
    "    # Choose correct label map depending on model\n",
    "    # First, check what labels look like\n",
    "    example_label = preds[0]['label']\n",
    "    \n",
    "    if example_label in [\"negative\", \"positive\", \"neutral\"]:\n",
    "        label_map = {\n",
    "            \"negative\": 0,\n",
    "            \"positive\": 1,\n",
    "            \"neutral\": 2\n",
    "        }\n",
    "    elif example_label in [\"LABEL_0\", \"LABEL_1\", \"LABEL_2\"]:\n",
    "        label_map = {\n",
    "            \"LABEL_0\": 0,\n",
    "            \"LABEL_1\": 1,\n",
    "            \"LABEL_2\": 2\n",
    "        }\n",
    "    elif example_label in [\"NEG\", \"POS\", \"NEU\"]:\n",
    "        label_map = {\n",
    "            \"NEG\": 0,\n",
    "            \"POS\": 1,\n",
    "            \"NEU\": 2\n",
    "        }\n",
    "\n",
    "    else:\n",
    "        raise ValueError(f\"Unknown label format: {example_label}\")\n",
    "    \n",
    "    # Convert predictions\n",
    "    y_pred_pipeline = [label_map[pred['label']] for pred in preds]\n",
    "    \n",
    "    # Print classification report\n",
    "    print(classification_report(y_true, y_pred_pipeline, digits=4))\n",
    "\n",
    "     # Plot confusion matrix\n",
    "    cm = confusion_matrix(y_true, y_pred_pipeline)\n",
    "    plt.figure(figsize=(6, 4))\n",
    "    sns.heatmap(cm, annot=True, fmt=\"d\", cmap=\"Blues\", xticklabels=[0,1,2], yticklabels=[0,1,2])\n",
    "    plt.xlabel(\"Predicted Label\")\n",
    "    plt.ylabel(\"True Label\")\n",
    "    plt.title(f\"Confusion Matrix - {model_name}\")\n",
    "    plt.show()"
   ]
  },
  {
   "cell_type": "code",
   "execution_count": null,
   "id": "19408f97",
   "metadata": {},
   "outputs": [],
   "source": [
    "# --- Run loop over your selected models ---\n",
    "\n",
    "# Prepare texts and true labels once\n",
    "val_texts = X_test[\"text\"].tolist()\n",
    "y_true = y_test[\"label\"].tolist()\n",
    "\n",
    "# List of models to test\n",
    "model_list = [\n",
    "    'cardiffnlp/twitter-roberta-base-sentiment-latest',\n",
    "    'cardiffnlp/twitter-xlm-roberta-base-sentiment',\n",
    "    'finiteautomata/bertweet-base-sentiment-analysis'\n",
    "]\n",
    "\n",
    "# Run evaluation for each model\n",
    "for model_name in model_list:\n",
    "    evaluate_pipeline_model(model_name, val_texts, y_true)"
   ]
  },
  {
   "cell_type": "markdown",
   "id": "a7ca7f87",
   "metadata": {},
   "source": [
    "# Train our own Bert Model"
   ]
  },
  {
   "cell_type": "markdown",
   "id": "2b903506",
   "metadata": {},
   "source": [
    "### Encode the dataset"
   ]
  },
  {
   "cell_type": "code",
   "execution_count": null,
   "id": "bc1a7b8d",
   "metadata": {},
   "outputs": [],
   "source": [
    "# Tokenize training set\n",
    "train_encodings = tokenizer(\n",
    "    X_train[\"text\"].tolist(),   # convert to list of strings\n",
    "    padding=True,               # pad to max length in batch\n",
    "    truncation=True,            # truncate long tweets\n",
    "    return_tensors=\"pt\"         # return PyTorch tensors\n",
    ")"
   ]
  },
  {
   "cell_type": "code",
   "execution_count": null,
   "id": "f7ff8f15",
   "metadata": {},
   "outputs": [],
   "source": [
    "# Tokenize validation set\n",
    "val_encodings = tokenizer(\n",
    "    X_test[\"text\"].tolist(),\n",
    "    padding=True,\n",
    "    truncation=True,\n",
    "    return_tensors=\"pt\"\n",
    ")"
   ]
  },
  {
   "cell_type": "code",
   "execution_count": null,
   "id": "2e210307",
   "metadata": {},
   "outputs": [],
   "source": [
    "# Check shape of tokenized data\n",
    "print(\"Train input_ids shape:\", train_encodings[\"input_ids\"].shape)\n",
    "print(\"Validation input_ids shape:\", val_encodings[\"input_ids\"].shape)"
   ]
  },
  {
   "cell_type": "markdown",
   "id": "847e8a7c",
   "metadata": {},
   "source": [
    "### Dataset and DataLoader"
   ]
  },
  {
   "cell_type": "code",
   "execution_count": null,
   "id": "3b7595e3",
   "metadata": {},
   "outputs": [],
   "source": [
    "# Custom Dataset class for our BERT model\n",
    "class TweetDataset(Dataset):\n",
    "    def __init__(self, encodings, labels):\n",
    "        self.encodings = encodings\n",
    "        self.labels = labels\n",
    "\n",
    "    def __len__(self):\n",
    "        return len(self.labels)\n",
    "\n",
    "    def __getitem__(self, idx):\n",
    "        item = {\n",
    "            'input_ids': self.encodings['input_ids'][idx],\n",
    "            'attention_mask': self.encodings['attention_mask'][idx],\n",
    "            'labels': torch.tensor(self.labels[idx], dtype=torch.long)\n",
    "        }\n",
    "        return item\n"
   ]
  },
  {
   "cell_type": "markdown",
   "id": "d3ce5ea0",
   "metadata": {},
   "source": [
    "#### Instantiate dataset"
   ]
  },
  {
   "cell_type": "code",
   "execution_count": null,
   "id": "35a3eae6",
   "metadata": {},
   "outputs": [],
   "source": [
    "# Convert labels to list\n",
    "train_labels = y_train[\"label\"].tolist()\n",
    "val_labels = y_test[\"label\"].tolist()\n",
    "\n",
    "# Create Dataset objects\n",
    "train_dataset = TweetDataset(train_encodings, train_labels)\n",
    "val_dataset = TweetDataset(val_encodings, val_labels)"
   ]
  },
  {
   "cell_type": "markdown",
   "id": "17b63e40",
   "metadata": {},
   "source": [
    "#### Create DataLoaders"
   ]
  },
  {
   "cell_type": "code",
   "execution_count": null,
   "id": "2dc64737",
   "metadata": {},
   "outputs": [],
   "source": [
    "# Set batch size (typical: 16 or 32)\n",
    "batch_size = 16\n",
    "\n",
    "# Create DataLoaders\n",
    "train_loader = DataLoader(train_dataset, batch_size=batch_size, shuffle=True)\n",
    "val_loader = DataLoader(val_dataset, batch_size=batch_size, shuffle=False)"
   ]
  },
  {
   "cell_type": "code",
   "execution_count": null,
   "id": "29c7b474",
   "metadata": {},
   "outputs": [],
   "source": [
    "# Check one batch from train_loader\n",
    "batch = next(iter(train_loader))\n",
    "print(batch.keys())\n",
    "print(batch['input_ids'].shape)\n",
    "print(batch['attention_mask'].shape)\n",
    "print(batch['labels'].shape)"
   ]
  },
  {
   "cell_type": "markdown",
   "id": "e7cb6dde",
   "metadata": {},
   "source": [
    "## Model prep "
   ]
  },
  {
   "cell_type": "markdown",
   "id": "e526d3e0",
   "metadata": {},
   "source": [
    "## Load the model"
   ]
  },
  {
   "cell_type": "code",
   "execution_count": null,
   "id": "04bc658d",
   "metadata": {},
   "outputs": [],
   "source": [
    "# Load model with 3 output labels\n",
    "model = RobertaForSequenceClassification.from_pretrained(MODEL_NAME, num_labels=3)"
   ]
  },
  {
   "cell_type": "code",
   "execution_count": null,
   "id": "1443ed8e",
   "metadata": {},
   "outputs": [],
   "source": [
    "print(model)"
   ]
  },
  {
   "cell_type": "markdown",
   "id": "8eea04fc",
   "metadata": {},
   "source": [
    "## Setup model training"
   ]
  },
  {
   "cell_type": "code",
   "execution_count": null,
   "id": "c4064d35",
   "metadata": {},
   "outputs": [],
   "source": []
  },
  {
   "cell_type": "markdown",
   "id": "fa9f203b",
   "metadata": {},
   "source": [
    "## Model Training "
   ]
  }
 ],
 "metadata": {
  "kernelspec": {
   "display_name": "nel_2025_env_full",
   "language": "python",
   "name": "python3"
  },
  "language_info": {
   "codemirror_mode": {
    "name": "ipython",
    "version": 3
   },
   "file_extension": ".py",
   "mimetype": "text/x-python",
   "name": "python",
   "nbconvert_exporter": "python",
   "pygments_lexer": "ipython3",
   "version": "3.12.9"
  }
 },
 "nbformat": 4,
 "nbformat_minor": 5
}
